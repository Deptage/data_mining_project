{
  "nbformat": 4,
  "nbformat_minor": 0,
  "metadata": {
    "colab": {
      "provenance": [],
      "include_colab_link": true
    },
    "kernelspec": {
      "name": "python3",
      "display_name": "Python 3"
    },
    "language_info": {
      "name": "python"
    }
  },
  "cells": [
    {
      "cell_type": "markdown",
      "metadata": {
        "id": "view-in-github",
        "colab_type": "text"
      },
      "source": [
        "<a href=\"https://colab.research.google.com/github/Deptage/data_mining_project/blob/main/src/Data_Mining_Project.ipynb\" target=\"_parent\"><img src=\"https://colab.research.google.com/assets/colab-badge.svg\" alt=\"Open In Colab\"/></a>"
      ]
    },
    {
      "cell_type": "markdown",
      "source": [
        "# Data Mining - Project\n",
        "\n",
        "Jupyter notebook for data mining project.\n",
        "\n",
        "## Predicting property prices using location attributes & characteristics"
      ],
      "metadata": {
        "id": "kCZOGE6lVOLf"
      }
    },
    {
      "cell_type": "markdown",
      "source": [
        "#### Pulling the datasets"
      ],
      "metadata": {
        "id": "KSE5D9jNVfFN"
      }
    },
    {
      "cell_type": "code",
      "source": [
        "!pip install gdown -q\n",
        "!sudo apt-get install tree -q\n",
        "\n",
        "import os\n",
        "from pathlib import Path\n",
        "\n",
        "data_dir = Path('data')\n",
        "data_dir.mkdir(exist_ok=True)\n",
        "\n",
        "folder_url = 'https://drive.google.com/drive/folders/1vgj_pa2kw-vlT5XmC_Yft7cJAASd_xh7'\n",
        "\n",
        "!gdown --folder {folder_url} -O {data_dir}\n",
        "\n",
        "print(\"\\nDownloaded files:\")\n",
        "!tree {data_dir}\n"
      ],
      "metadata": {
        "colab": {
          "base_uri": "https://localhost:8080/"
        },
        "id": "3-WH76JeVOBj",
        "outputId": "95ec08f0-4c9c-4897-ca37-45a6e4425926"
      },
      "execution_count": 1,
      "outputs": [
        {
          "output_type": "stream",
          "name": "stdout",
          "text": [
            "Reading package lists...\n",
            "Building dependency tree...\n",
            "Reading state information...\n",
            "The following NEW packages will be installed:\n",
            "  tree\n",
            "0 upgraded, 1 newly installed, 0 to remove and 30 not upgraded.\n",
            "Need to get 47.9 kB of archives.\n",
            "After this operation, 116 kB of additional disk space will be used.\n",
            "Get:1 http://archive.ubuntu.com/ubuntu jammy/universe amd64 tree amd64 2.0.2-1 [47.9 kB]\n",
            "Fetched 47.9 kB in 1s (84.7 kB/s)\n",
            "debconf: unable to initialize frontend: Dialog\n",
            "debconf: (No usable dialog-like program is installed, so the dialog based frontend cannot be used. at /usr/share/perl5/Debconf/FrontEnd/Dialog.pm line 78, <> line 1.)\n",
            "debconf: falling back to frontend: Readline\n",
            "debconf: unable to initialize frontend: Readline\n",
            "debconf: (This frontend requires a controlling tty.)\n",
            "debconf: falling back to frontend: Teletype\n",
            "dpkg-preconfigure: unable to re-open stdin: \n",
            "Selecting previously unselected package tree.\n",
            "(Reading database ... 126213 files and directories currently installed.)\n",
            "Preparing to unpack .../tree_2.0.2-1_amd64.deb ...\n",
            "Unpacking tree (2.0.2-1) ...\n",
            "Setting up tree (2.0.2-1) ...\n",
            "Processing triggers for man-db (2.10.2-1) ...\n",
            "Retrieving folder contents\n",
            "Processing file 1iFFvasVMk1S8dTEQ3VD5CIwG-bjAk3ES california-housing-prices.csv\n",
            "Processing file 1LLtz1_dATYcmukgDbwRlmsMoNfHyZzAo housedata.csv\n",
            "Processing file 1W2qFgkImU-m7tts1O4_ehmgyI_XMKRTX melbourne_housing_prices_less.csv\n",
            "Processing file 13fqeOTeTfYhn2kmxxeS0kP88sD9EZ8OJ melbourne-housing-full.csv\n",
            "Processing file 1aMTZXgnX6me_OukbO5Hv3ygJwxuAZCT8 melbourne-housing-snapshot.csv\n",
            "Processing file 1WmJEPetz6E71jNQLnmpROzBjc7oqBJYc nyc-rolling-sales.csv\n",
            "Processing file 1M-tUTty7Kb6pHkCh8XfmvppyoibZwfP7 real-estate-dataset.csv\n",
            "Processing file 18nPPkS4QPdTMZJvaOkrYBuEQTq2ZpxnN real-estate-price-prediction.csv\n",
            "Processing file 14UF6XrGRNuOnIRJbnysPzMZBOQgx16Da usa-real-estate-dataset.csv\n",
            "Retrieving folder contents completed\n",
            "Building directory structure\n",
            "Building directory structure completed\n",
            "Downloading...\n",
            "From: https://drive.google.com/uc?id=1iFFvasVMk1S8dTEQ3VD5CIwG-bjAk3ES\n",
            "To: /content/data/california-housing-prices.csv\n",
            "100% 1.42M/1.42M [00:00<00:00, 17.1MB/s]\n",
            "Downloading...\n",
            "From: https://drive.google.com/uc?id=1LLtz1_dATYcmukgDbwRlmsMoNfHyZzAo\n",
            "To: /content/data/housedata.csv\n",
            "100% 527k/527k [00:00<00:00, 8.38MB/s]\n",
            "Downloading...\n",
            "From: https://drive.google.com/uc?id=1W2qFgkImU-m7tts1O4_ehmgyI_XMKRTX\n",
            "To: /content/data/melbourne_housing_prices_less.csv\n",
            "100% 7.30M/7.30M [00:00<00:00, 39.9MB/s]\n",
            "Downloading...\n",
            "From: https://drive.google.com/uc?id=13fqeOTeTfYhn2kmxxeS0kP88sD9EZ8OJ\n",
            "To: /content/data/melbourne-housing-full.csv\n",
            "100% 5.02M/5.02M [00:00<00:00, 36.5MB/s]\n",
            "Downloading...\n",
            "From: https://drive.google.com/uc?id=1aMTZXgnX6me_OukbO5Hv3ygJwxuAZCT8\n",
            "To: /content/data/melbourne-housing-snapshot.csv\n",
            "100% 2.09M/2.09M [00:00<00:00, 62.4MB/s]\n",
            "Downloading...\n",
            "From: https://drive.google.com/uc?id=1WmJEPetz6E71jNQLnmpROzBjc7oqBJYc\n",
            "To: /content/data/nyc-rolling-sales.csv\n",
            "100% 13.6M/13.6M [00:00<00:00, 57.9MB/s]\n",
            "Downloading...\n",
            "From: https://drive.google.com/uc?id=1M-tUTty7Kb6pHkCh8XfmvppyoibZwfP7\n",
            "To: /content/data/real-estate-dataset.csv\n",
            "100% 35.5k/35.5k [00:00<00:00, 31.3MB/s]\n",
            "Downloading...\n",
            "From: https://drive.google.com/uc?id=18nPPkS4QPdTMZJvaOkrYBuEQTq2ZpxnN\n",
            "To: /content/data/real-estate-price-prediction.csv\n",
            "100% 22.0k/22.0k [00:00<00:00, 63.7MB/s]\n",
            "Downloading...\n",
            "From (original): https://drive.google.com/uc?id=14UF6XrGRNuOnIRJbnysPzMZBOQgx16Da\n",
            "From (redirected): https://drive.google.com/uc?id=14UF6XrGRNuOnIRJbnysPzMZBOQgx16Da&confirm=t&uuid=9583408d-f156-49fc-813c-1d20b10bbdc5\n",
            "To: /content/data/usa-real-estate-dataset.csv\n",
            "100% 179M/179M [00:02<00:00, 66.0MB/s]\n",
            "Download completed\n",
            "\n",
            "Downloaded files:\n",
            "\u001b[01;34mdata\u001b[0m\n",
            "├── \u001b[00mcalifornia-housing-prices.csv\u001b[0m\n",
            "├── \u001b[00mhousedata.csv\u001b[0m\n",
            "├── \u001b[00mmelbourne-housing-full.csv\u001b[0m\n",
            "├── \u001b[00mmelbourne_housing_prices_less.csv\u001b[0m\n",
            "├── \u001b[00mmelbourne-housing-snapshot.csv\u001b[0m\n",
            "├── \u001b[00mnyc-rolling-sales.csv\u001b[0m\n",
            "├── \u001b[00mreal-estate-dataset.csv\u001b[0m\n",
            "├── \u001b[00mreal-estate-price-prediction.csv\u001b[0m\n",
            "└── \u001b[00musa-real-estate-dataset.csv\u001b[0m\n",
            "\n",
            "0 directories, 9 files\n"
          ]
        }
      ]
    },
    {
      "cell_type": "code",
      "source": [
        "import pandas as pd"
      ],
      "metadata": {
        "id": "bkKrxIxrcecr"
      },
      "execution_count": 2,
      "outputs": []
    },
    {
      "cell_type": "code",
      "source": [
        "# chp = pd.read_csv('data/california-housing-prices.csv')\n",
        "# hd = pd.read_csv('data/housedata.csv')\n",
        "# melb = pd.read_csv('data/melbourne-housing-full.csv')\n",
        "# nyc = pd.read_csv('data/nyc-rolling-sales.csv')\n",
        "# red = pd.read_csv('data/real-estate-dataset.csv')\n",
        "# repp = pd.read_csv('data/real-estate-price-prediction.csv')\n",
        "ured = pd.read_csv('data/usa-real-estate-dataset.csv')"
      ],
      "metadata": {
        "id": "Vi5komwHcw1_"
      },
      "execution_count": 23,
      "outputs": []
    },
    {
      "cell_type": "markdown",
      "source": [
        "#### 1. Entry data exploration"
      ],
      "metadata": {
        "id": "q1gXPEIvVQVd"
      }
    },
    {
      "cell_type": "markdown",
      "source": [
        "Let's take a glance at data that is available in the datasets"
      ],
      "metadata": {
        "id": "oUaioaE3clMA"
      }
    },
    {
      "cell_type": "code",
      "source": [
        "def print_dataset_overview(dataset, dataset_name):\n",
        "  print()\n",
        "  print('============================')\n",
        "  print(dataset_name)\n",
        "  print('============================')\n",
        "  print('Attributes')\n",
        "  print(dataset.columns)\n",
        "  print()\n",
        "  print('Number of rows')\n",
        "  print(dataset.shape[0])\n",
        "  print()\n",
        "  print('Number of columns')\n",
        "  print(dataset.shape[1])\n",
        "  print()\n",
        "  print('First 5 rows')\n",
        "  print(dataset.head())\n",
        "  print()\n",
        "  print('Info')\n",
        "  print(dataset.info())\n",
        "  print()\n",
        "  print('Describe')\n",
        "  print(dataset.describe())"
      ],
      "metadata": {
        "id": "QmstborXoKrA"
      },
      "execution_count": 24,
      "outputs": []
    },
    {
      "cell_type": "code",
      "source": [
        "print_dataset_overview(ured, 'USA Real Estate Dataset')\n",
        "# print_dataset_overview(chp, 'California Housing Prices')\n",
        "# print_dataset_overview(hd, 'House Data')\n",
        "# print_dataset_overview(melb, 'Melbourne Housing Full')\n",
        "# print_dataset_overview(nyc, 'NYC Rolling Sales')\n",
        "# print_dataset_overview(repp, 'Real Estate Price Prediction')"
      ],
      "metadata": {
        "colab": {
          "base_uri": "https://localhost:8080/"
        },
        "id": "P5J-XVQUdJZR",
        "outputId": "95e86a70-b912-4a6c-da94-9925b591c9bd"
      },
      "execution_count": 25,
      "outputs": [
        {
          "output_type": "stream",
          "name": "stdout",
          "text": [
            "\n",
            "============================\n",
            "USA Real Estate Dataset\n",
            "============================\n",
            "Attributes\n",
            "Index(['brokered_by', 'status', 'price', 'bed', 'bath', 'acre_lot', 'street',\n",
            "       'city', 'state', 'zip_code', 'house_size', 'prev_sold_date'],\n",
            "      dtype='object')\n",
            "\n",
            "Number of rows\n",
            "2226382\n",
            "\n",
            "Number of columns\n",
            "12\n",
            "\n",
            "First 5 rows\n",
            "   brokered_by    status     price  bed  bath  acre_lot     street  \\\n",
            "0     103378.0  for_sale  105000.0  3.0   2.0      0.12  1962661.0   \n",
            "1      52707.0  for_sale   80000.0  4.0   2.0      0.08  1902874.0   \n",
            "2     103379.0  for_sale   67000.0  2.0   1.0      0.15  1404990.0   \n",
            "3      31239.0  for_sale  145000.0  4.0   2.0      0.10  1947675.0   \n",
            "4      34632.0  for_sale   65000.0  6.0   2.0      0.05   331151.0   \n",
            "\n",
            "         city        state  zip_code  house_size prev_sold_date  \n",
            "0    Adjuntas  Puerto Rico     601.0       920.0            NaN  \n",
            "1    Adjuntas  Puerto Rico     601.0      1527.0            NaN  \n",
            "2  Juana Diaz  Puerto Rico     795.0       748.0            NaN  \n",
            "3       Ponce  Puerto Rico     731.0      1800.0            NaN  \n",
            "4    Mayaguez  Puerto Rico     680.0         NaN            NaN  \n",
            "\n",
            "Info\n",
            "<class 'pandas.core.frame.DataFrame'>\n",
            "RangeIndex: 2226382 entries, 0 to 2226381\n",
            "Data columns (total 12 columns):\n",
            " #   Column          Dtype  \n",
            "---  ------          -----  \n",
            " 0   brokered_by     float64\n",
            " 1   status          object \n",
            " 2   price           float64\n",
            " 3   bed             float64\n",
            " 4   bath            float64\n",
            " 5   acre_lot        float64\n",
            " 6   street          float64\n",
            " 7   city            object \n",
            " 8   state           object \n",
            " 9   zip_code        float64\n",
            " 10  house_size      float64\n",
            " 11  prev_sold_date  object \n",
            "dtypes: float64(8), object(4)\n",
            "memory usage: 203.8+ MB\n",
            "None\n",
            "\n",
            "Describe\n",
            "        brokered_by         price           bed          bath      acre_lot  \\\n",
            "count  2.221849e+06  2.224841e+06  1.745065e+06  1.714611e+06  1.900793e+06   \n",
            "mean   5.293989e+04  5.241955e+05  3.275841e+00  2.496440e+00  1.522303e+01   \n",
            "std    3.064275e+04  2.138893e+06  1.567274e+00  1.652573e+00  7.628238e+02   \n",
            "min    0.000000e+00  0.000000e+00  1.000000e+00  1.000000e+00  0.000000e+00   \n",
            "25%    2.386100e+04  1.650000e+05  3.000000e+00  2.000000e+00  1.500000e-01   \n",
            "50%    5.288400e+04  3.250000e+05  3.000000e+00  2.000000e+00  2.600000e-01   \n",
            "75%    7.918300e+04  5.500000e+05  4.000000e+00  3.000000e+00  9.800000e-01   \n",
            "max    1.101420e+05  2.147484e+09  4.730000e+02  8.300000e+02  1.000000e+05   \n",
            "\n",
            "             street      zip_code    house_size  \n",
            "count  2.215516e+06  2.226083e+06  1.657898e+06  \n",
            "mean   1.012325e+06  5.218668e+04  2.714471e+03  \n",
            "std    5.837635e+05  2.895408e+04  8.081635e+05  \n",
            "min    0.000000e+00  0.000000e+00  4.000000e+00  \n",
            "25%    5.063128e+05  2.961700e+04  1.300000e+03  \n",
            "50%    1.012766e+06  4.838200e+04  1.760000e+03  \n",
            "75%    1.521173e+06  7.807000e+04  2.413000e+03  \n",
            "max    2.001357e+06  9.999900e+04  1.040400e+09  \n"
          ]
        }
      ]
    },
    {
      "cell_type": "markdown",
      "source": [
        "#### Attribute selection\n",
        "\n",
        "From the usa-real-estate-dataset.csv we can see that most likey, 'brokered_by' and 'status' attributes will be unsignificant and redundant, since it encodes the agency that sold the property and indicates the sale status, which is not the aim of this analysis. Even though 'prev_sold_date' also describes the sale of the property, we will leave it be, since it indicates, if the property was sold before.\n",
        "\n",
        "Also, the 'street' attribute is way too specific. For determining the location, 'state','city' and 'zip_code' should be sufficient.\n",
        "\n",
        "In summary, the attributes we selected for exploratory analysis are:\n",
        "- price (the attribute we are trying to predict)\n",
        "- bed (the number of bedrooms)\n",
        "- bath (the number of bathrooms)\n",
        "- acre_lot (total lot size)\n",
        "- city\n",
        "- state\n",
        "- zip_code\n",
        "- house_size\n",
        "- prev_sold_date"
      ],
      "metadata": {
        "id": "0r9jhvewfkyE"
      }
    },
    {
      "cell_type": "code",
      "source": [
        "ured_filtered = ured.drop(columns=['brokered_by', 'street', 'status'])"
      ],
      "metadata": {
        "id": "WEG7ul9gffQ9"
      },
      "execution_count": 81,
      "outputs": []
    },
    {
      "cell_type": "code",
      "source": [
        "print_dataset_overview(ured_filtered, 'USA Real Estate Dataset - filtered')"
      ],
      "metadata": {
        "colab": {
          "base_uri": "https://localhost:8080/"
        },
        "id": "4d0uGFAHi-ar",
        "outputId": "7bb3e5bb-d4a9-4c48-ff2e-058dd2aaabd5"
      },
      "execution_count": 82,
      "outputs": [
        {
          "output_type": "stream",
          "name": "stdout",
          "text": [
            "\n",
            "============================\n",
            "USA Real Estate Dataset - filtered\n",
            "============================\n",
            "Attributes\n",
            "Index(['price', 'bed', 'bath', 'acre_lot', 'city', 'state', 'zip_code',\n",
            "       'house_size', 'prev_sold_date'],\n",
            "      dtype='object')\n",
            "\n",
            "Number of rows\n",
            "2226382\n",
            "\n",
            "Number of columns\n",
            "9\n",
            "\n",
            "First 5 rows\n",
            "      price  bed  bath  acre_lot        city        state  zip_code  \\\n",
            "0  105000.0  3.0   2.0      0.12    Adjuntas  Puerto Rico     601.0   \n",
            "1   80000.0  4.0   2.0      0.08    Adjuntas  Puerto Rico     601.0   \n",
            "2   67000.0  2.0   1.0      0.15  Juana Diaz  Puerto Rico     795.0   \n",
            "3  145000.0  4.0   2.0      0.10       Ponce  Puerto Rico     731.0   \n",
            "4   65000.0  6.0   2.0      0.05    Mayaguez  Puerto Rico     680.0   \n",
            "\n",
            "   house_size prev_sold_date  \n",
            "0       920.0            NaN  \n",
            "1      1527.0            NaN  \n",
            "2       748.0            NaN  \n",
            "3      1800.0            NaN  \n",
            "4         NaN            NaN  \n",
            "\n",
            "Info\n",
            "<class 'pandas.core.frame.DataFrame'>\n",
            "RangeIndex: 2226382 entries, 0 to 2226381\n",
            "Data columns (total 9 columns):\n",
            " #   Column          Dtype  \n",
            "---  ------          -----  \n",
            " 0   price           float64\n",
            " 1   bed             float64\n",
            " 2   bath            float64\n",
            " 3   acre_lot        float64\n",
            " 4   city            object \n",
            " 5   state           object \n",
            " 6   zip_code        float64\n",
            " 7   house_size      float64\n",
            " 8   prev_sold_date  object \n",
            "dtypes: float64(6), object(3)\n",
            "memory usage: 152.9+ MB\n",
            "None\n",
            "\n",
            "Describe\n",
            "              price           bed          bath      acre_lot      zip_code  \\\n",
            "count  2.224841e+06  1.745065e+06  1.714611e+06  1.900793e+06  2.226083e+06   \n",
            "mean   5.241955e+05  3.275841e+00  2.496440e+00  1.522303e+01  5.218668e+04   \n",
            "std    2.138893e+06  1.567274e+00  1.652573e+00  7.628238e+02  2.895408e+04   \n",
            "min    0.000000e+00  1.000000e+00  1.000000e+00  0.000000e+00  0.000000e+00   \n",
            "25%    1.650000e+05  3.000000e+00  2.000000e+00  1.500000e-01  2.961700e+04   \n",
            "50%    3.250000e+05  3.000000e+00  2.000000e+00  2.600000e-01  4.838200e+04   \n",
            "75%    5.500000e+05  4.000000e+00  3.000000e+00  9.800000e-01  7.807000e+04   \n",
            "max    2.147484e+09  4.730000e+02  8.300000e+02  1.000000e+05  9.999900e+04   \n",
            "\n",
            "         house_size  \n",
            "count  1.657898e+06  \n",
            "mean   2.714471e+03  \n",
            "std    8.081635e+05  \n",
            "min    4.000000e+00  \n",
            "25%    1.300000e+03  \n",
            "50%    1.760000e+03  \n",
            "75%    2.413000e+03  \n",
            "max    1.040400e+09  \n"
          ]
        }
      ]
    },
    {
      "cell_type": "markdown",
      "source": [
        "#### Wskazanie atrybutów celu"
      ],
      "metadata": {
        "id": "uV9RA-qoA3W3"
      }
    },
    {
      "cell_type": "code",
      "source": [
        "target = ured_filtered['price']"
      ],
      "metadata": {
        "id": "GiKPicyWA69m"
      },
      "execution_count": 83,
      "outputs": []
    },
    {
      "cell_type": "markdown",
      "source": [
        "#### Wskazanie rodzajów atrybutów"
      ],
      "metadata": {
        "id": "rW2jW44_BdKN"
      }
    },
    {
      "cell_type": "code",
      "source": [
        "ured_filtered"
      ],
      "metadata": {
        "id": "GTllHeRGB1vs",
        "outputId": "8adfc8f7-6b7c-4d44-92b5-31d64d4d8cc7",
        "colab": {
          "base_uri": "https://localhost:8080/",
          "height": 423
        }
      },
      "execution_count": 84,
      "outputs": [
        {
          "output_type": "execute_result",
          "data": {
            "text/plain": [
              "            price  bed  bath  acre_lot        city        state  zip_code  \\\n",
              "0        105000.0  3.0   2.0      0.12    Adjuntas  Puerto Rico     601.0   \n",
              "1         80000.0  4.0   2.0      0.08    Adjuntas  Puerto Rico     601.0   \n",
              "2         67000.0  2.0   1.0      0.15  Juana Diaz  Puerto Rico     795.0   \n",
              "3        145000.0  4.0   2.0      0.10       Ponce  Puerto Rico     731.0   \n",
              "4         65000.0  6.0   2.0      0.05    Mayaguez  Puerto Rico     680.0   \n",
              "...           ...  ...   ...       ...         ...          ...       ...   \n",
              "2226377  359900.0  4.0   2.0      0.33    Richland   Washington   99354.0   \n",
              "2226378  350000.0  3.0   2.0      0.10    Richland   Washington   99354.0   \n",
              "2226379  440000.0  6.0   3.0      0.50    Richland   Washington   99354.0   \n",
              "2226380  179900.0  2.0   1.0      0.09    Richland   Washington   99354.0   \n",
              "2226381  580000.0  5.0   3.0      0.31    Richland   Washington   99354.0   \n",
              "\n",
              "         house_size prev_sold_date  \n",
              "0             920.0            NaN  \n",
              "1            1527.0            NaN  \n",
              "2             748.0            NaN  \n",
              "3            1800.0            NaN  \n",
              "4               NaN            NaN  \n",
              "...             ...            ...  \n",
              "2226377      3600.0     2022-03-25  \n",
              "2226378      1616.0     2022-03-25  \n",
              "2226379      3200.0     2022-03-24  \n",
              "2226380       933.0     2022-03-24  \n",
              "2226381      3615.0     2022-03-23  \n",
              "\n",
              "[2226382 rows x 9 columns]"
            ],
            "text/html": [
              "\n",
              "  <div id=\"df-7eb94ba5-2f26-4bde-be19-96a4266bae76\" class=\"colab-df-container\">\n",
              "    <div>\n",
              "<style scoped>\n",
              "    .dataframe tbody tr th:only-of-type {\n",
              "        vertical-align: middle;\n",
              "    }\n",
              "\n",
              "    .dataframe tbody tr th {\n",
              "        vertical-align: top;\n",
              "    }\n",
              "\n",
              "    .dataframe thead th {\n",
              "        text-align: right;\n",
              "    }\n",
              "</style>\n",
              "<table border=\"1\" class=\"dataframe\">\n",
              "  <thead>\n",
              "    <tr style=\"text-align: right;\">\n",
              "      <th></th>\n",
              "      <th>price</th>\n",
              "      <th>bed</th>\n",
              "      <th>bath</th>\n",
              "      <th>acre_lot</th>\n",
              "      <th>city</th>\n",
              "      <th>state</th>\n",
              "      <th>zip_code</th>\n",
              "      <th>house_size</th>\n",
              "      <th>prev_sold_date</th>\n",
              "    </tr>\n",
              "  </thead>\n",
              "  <tbody>\n",
              "    <tr>\n",
              "      <th>0</th>\n",
              "      <td>105000.0</td>\n",
              "      <td>3.0</td>\n",
              "      <td>2.0</td>\n",
              "      <td>0.12</td>\n",
              "      <td>Adjuntas</td>\n",
              "      <td>Puerto Rico</td>\n",
              "      <td>601.0</td>\n",
              "      <td>920.0</td>\n",
              "      <td>NaN</td>\n",
              "    </tr>\n",
              "    <tr>\n",
              "      <th>1</th>\n",
              "      <td>80000.0</td>\n",
              "      <td>4.0</td>\n",
              "      <td>2.0</td>\n",
              "      <td>0.08</td>\n",
              "      <td>Adjuntas</td>\n",
              "      <td>Puerto Rico</td>\n",
              "      <td>601.0</td>\n",
              "      <td>1527.0</td>\n",
              "      <td>NaN</td>\n",
              "    </tr>\n",
              "    <tr>\n",
              "      <th>2</th>\n",
              "      <td>67000.0</td>\n",
              "      <td>2.0</td>\n",
              "      <td>1.0</td>\n",
              "      <td>0.15</td>\n",
              "      <td>Juana Diaz</td>\n",
              "      <td>Puerto Rico</td>\n",
              "      <td>795.0</td>\n",
              "      <td>748.0</td>\n",
              "      <td>NaN</td>\n",
              "    </tr>\n",
              "    <tr>\n",
              "      <th>3</th>\n",
              "      <td>145000.0</td>\n",
              "      <td>4.0</td>\n",
              "      <td>2.0</td>\n",
              "      <td>0.10</td>\n",
              "      <td>Ponce</td>\n",
              "      <td>Puerto Rico</td>\n",
              "      <td>731.0</td>\n",
              "      <td>1800.0</td>\n",
              "      <td>NaN</td>\n",
              "    </tr>\n",
              "    <tr>\n",
              "      <th>4</th>\n",
              "      <td>65000.0</td>\n",
              "      <td>6.0</td>\n",
              "      <td>2.0</td>\n",
              "      <td>0.05</td>\n",
              "      <td>Mayaguez</td>\n",
              "      <td>Puerto Rico</td>\n",
              "      <td>680.0</td>\n",
              "      <td>NaN</td>\n",
              "      <td>NaN</td>\n",
              "    </tr>\n",
              "    <tr>\n",
              "      <th>...</th>\n",
              "      <td>...</td>\n",
              "      <td>...</td>\n",
              "      <td>...</td>\n",
              "      <td>...</td>\n",
              "      <td>...</td>\n",
              "      <td>...</td>\n",
              "      <td>...</td>\n",
              "      <td>...</td>\n",
              "      <td>...</td>\n",
              "    </tr>\n",
              "    <tr>\n",
              "      <th>2226377</th>\n",
              "      <td>359900.0</td>\n",
              "      <td>4.0</td>\n",
              "      <td>2.0</td>\n",
              "      <td>0.33</td>\n",
              "      <td>Richland</td>\n",
              "      <td>Washington</td>\n",
              "      <td>99354.0</td>\n",
              "      <td>3600.0</td>\n",
              "      <td>2022-03-25</td>\n",
              "    </tr>\n",
              "    <tr>\n",
              "      <th>2226378</th>\n",
              "      <td>350000.0</td>\n",
              "      <td>3.0</td>\n",
              "      <td>2.0</td>\n",
              "      <td>0.10</td>\n",
              "      <td>Richland</td>\n",
              "      <td>Washington</td>\n",
              "      <td>99354.0</td>\n",
              "      <td>1616.0</td>\n",
              "      <td>2022-03-25</td>\n",
              "    </tr>\n",
              "    <tr>\n",
              "      <th>2226379</th>\n",
              "      <td>440000.0</td>\n",
              "      <td>6.0</td>\n",
              "      <td>3.0</td>\n",
              "      <td>0.50</td>\n",
              "      <td>Richland</td>\n",
              "      <td>Washington</td>\n",
              "      <td>99354.0</td>\n",
              "      <td>3200.0</td>\n",
              "      <td>2022-03-24</td>\n",
              "    </tr>\n",
              "    <tr>\n",
              "      <th>2226380</th>\n",
              "      <td>179900.0</td>\n",
              "      <td>2.0</td>\n",
              "      <td>1.0</td>\n",
              "      <td>0.09</td>\n",
              "      <td>Richland</td>\n",
              "      <td>Washington</td>\n",
              "      <td>99354.0</td>\n",
              "      <td>933.0</td>\n",
              "      <td>2022-03-24</td>\n",
              "    </tr>\n",
              "    <tr>\n",
              "      <th>2226381</th>\n",
              "      <td>580000.0</td>\n",
              "      <td>5.0</td>\n",
              "      <td>3.0</td>\n",
              "      <td>0.31</td>\n",
              "      <td>Richland</td>\n",
              "      <td>Washington</td>\n",
              "      <td>99354.0</td>\n",
              "      <td>3615.0</td>\n",
              "      <td>2022-03-23</td>\n",
              "    </tr>\n",
              "  </tbody>\n",
              "</table>\n",
              "<p>2226382 rows × 9 columns</p>\n",
              "</div>\n",
              "    <div class=\"colab-df-buttons\">\n",
              "\n",
              "  <div class=\"colab-df-container\">\n",
              "    <button class=\"colab-df-convert\" onclick=\"convertToInteractive('df-7eb94ba5-2f26-4bde-be19-96a4266bae76')\"\n",
              "            title=\"Convert this dataframe to an interactive table.\"\n",
              "            style=\"display:none;\">\n",
              "\n",
              "  <svg xmlns=\"http://www.w3.org/2000/svg\" height=\"24px\" viewBox=\"0 -960 960 960\">\n",
              "    <path d=\"M120-120v-720h720v720H120Zm60-500h600v-160H180v160Zm220 220h160v-160H400v160Zm0 220h160v-160H400v160ZM180-400h160v-160H180v160Zm440 0h160v-160H620v160ZM180-180h160v-160H180v160Zm440 0h160v-160H620v160Z\"/>\n",
              "  </svg>\n",
              "    </button>\n",
              "\n",
              "  <style>\n",
              "    .colab-df-container {\n",
              "      display:flex;\n",
              "      gap: 12px;\n",
              "    }\n",
              "\n",
              "    .colab-df-convert {\n",
              "      background-color: #E8F0FE;\n",
              "      border: none;\n",
              "      border-radius: 50%;\n",
              "      cursor: pointer;\n",
              "      display: none;\n",
              "      fill: #1967D2;\n",
              "      height: 32px;\n",
              "      padding: 0 0 0 0;\n",
              "      width: 32px;\n",
              "    }\n",
              "\n",
              "    .colab-df-convert:hover {\n",
              "      background-color: #E2EBFA;\n",
              "      box-shadow: 0px 1px 2px rgba(60, 64, 67, 0.3), 0px 1px 3px 1px rgba(60, 64, 67, 0.15);\n",
              "      fill: #174EA6;\n",
              "    }\n",
              "\n",
              "    .colab-df-buttons div {\n",
              "      margin-bottom: 4px;\n",
              "    }\n",
              "\n",
              "    [theme=dark] .colab-df-convert {\n",
              "      background-color: #3B4455;\n",
              "      fill: #D2E3FC;\n",
              "    }\n",
              "\n",
              "    [theme=dark] .colab-df-convert:hover {\n",
              "      background-color: #434B5C;\n",
              "      box-shadow: 0px 1px 3px 1px rgba(0, 0, 0, 0.15);\n",
              "      filter: drop-shadow(0px 1px 2px rgba(0, 0, 0, 0.3));\n",
              "      fill: #FFFFFF;\n",
              "    }\n",
              "  </style>\n",
              "\n",
              "    <script>\n",
              "      const buttonEl =\n",
              "        document.querySelector('#df-7eb94ba5-2f26-4bde-be19-96a4266bae76 button.colab-df-convert');\n",
              "      buttonEl.style.display =\n",
              "        google.colab.kernel.accessAllowed ? 'block' : 'none';\n",
              "\n",
              "      async function convertToInteractive(key) {\n",
              "        const element = document.querySelector('#df-7eb94ba5-2f26-4bde-be19-96a4266bae76');\n",
              "        const dataTable =\n",
              "          await google.colab.kernel.invokeFunction('convertToInteractive',\n",
              "                                                    [key], {});\n",
              "        if (!dataTable) return;\n",
              "\n",
              "        const docLinkHtml = 'Like what you see? Visit the ' +\n",
              "          '<a target=\"_blank\" href=https://colab.research.google.com/notebooks/data_table.ipynb>data table notebook</a>'\n",
              "          + ' to learn more about interactive tables.';\n",
              "        element.innerHTML = '';\n",
              "        dataTable['output_type'] = 'display_data';\n",
              "        await google.colab.output.renderOutput(dataTable, element);\n",
              "        const docLink = document.createElement('div');\n",
              "        docLink.innerHTML = docLinkHtml;\n",
              "        element.appendChild(docLink);\n",
              "      }\n",
              "    </script>\n",
              "  </div>\n",
              "\n",
              "\n",
              "<div id=\"df-1aa760da-b45e-497a-9bd6-c0aa09b9d797\">\n",
              "  <button class=\"colab-df-quickchart\" onclick=\"quickchart('df-1aa760da-b45e-497a-9bd6-c0aa09b9d797')\"\n",
              "            title=\"Suggest charts\"\n",
              "            style=\"display:none;\">\n",
              "\n",
              "<svg xmlns=\"http://www.w3.org/2000/svg\" height=\"24px\"viewBox=\"0 0 24 24\"\n",
              "     width=\"24px\">\n",
              "    <g>\n",
              "        <path d=\"M19 3H5c-1.1 0-2 .9-2 2v14c0 1.1.9 2 2 2h14c1.1 0 2-.9 2-2V5c0-1.1-.9-2-2-2zM9 17H7v-7h2v7zm4 0h-2V7h2v10zm4 0h-2v-4h2v4z\"/>\n",
              "    </g>\n",
              "</svg>\n",
              "  </button>\n",
              "\n",
              "<style>\n",
              "  .colab-df-quickchart {\n",
              "      --bg-color: #E8F0FE;\n",
              "      --fill-color: #1967D2;\n",
              "      --hover-bg-color: #E2EBFA;\n",
              "      --hover-fill-color: #174EA6;\n",
              "      --disabled-fill-color: #AAA;\n",
              "      --disabled-bg-color: #DDD;\n",
              "  }\n",
              "\n",
              "  [theme=dark] .colab-df-quickchart {\n",
              "      --bg-color: #3B4455;\n",
              "      --fill-color: #D2E3FC;\n",
              "      --hover-bg-color: #434B5C;\n",
              "      --hover-fill-color: #FFFFFF;\n",
              "      --disabled-bg-color: #3B4455;\n",
              "      --disabled-fill-color: #666;\n",
              "  }\n",
              "\n",
              "  .colab-df-quickchart {\n",
              "    background-color: var(--bg-color);\n",
              "    border: none;\n",
              "    border-radius: 50%;\n",
              "    cursor: pointer;\n",
              "    display: none;\n",
              "    fill: var(--fill-color);\n",
              "    height: 32px;\n",
              "    padding: 0;\n",
              "    width: 32px;\n",
              "  }\n",
              "\n",
              "  .colab-df-quickchart:hover {\n",
              "    background-color: var(--hover-bg-color);\n",
              "    box-shadow: 0 1px 2px rgba(60, 64, 67, 0.3), 0 1px 3px 1px rgba(60, 64, 67, 0.15);\n",
              "    fill: var(--button-hover-fill-color);\n",
              "  }\n",
              "\n",
              "  .colab-df-quickchart-complete:disabled,\n",
              "  .colab-df-quickchart-complete:disabled:hover {\n",
              "    background-color: var(--disabled-bg-color);\n",
              "    fill: var(--disabled-fill-color);\n",
              "    box-shadow: none;\n",
              "  }\n",
              "\n",
              "  .colab-df-spinner {\n",
              "    border: 2px solid var(--fill-color);\n",
              "    border-color: transparent;\n",
              "    border-bottom-color: var(--fill-color);\n",
              "    animation:\n",
              "      spin 1s steps(1) infinite;\n",
              "  }\n",
              "\n",
              "  @keyframes spin {\n",
              "    0% {\n",
              "      border-color: transparent;\n",
              "      border-bottom-color: var(--fill-color);\n",
              "      border-left-color: var(--fill-color);\n",
              "    }\n",
              "    20% {\n",
              "      border-color: transparent;\n",
              "      border-left-color: var(--fill-color);\n",
              "      border-top-color: var(--fill-color);\n",
              "    }\n",
              "    30% {\n",
              "      border-color: transparent;\n",
              "      border-left-color: var(--fill-color);\n",
              "      border-top-color: var(--fill-color);\n",
              "      border-right-color: var(--fill-color);\n",
              "    }\n",
              "    40% {\n",
              "      border-color: transparent;\n",
              "      border-right-color: var(--fill-color);\n",
              "      border-top-color: var(--fill-color);\n",
              "    }\n",
              "    60% {\n",
              "      border-color: transparent;\n",
              "      border-right-color: var(--fill-color);\n",
              "    }\n",
              "    80% {\n",
              "      border-color: transparent;\n",
              "      border-right-color: var(--fill-color);\n",
              "      border-bottom-color: var(--fill-color);\n",
              "    }\n",
              "    90% {\n",
              "      border-color: transparent;\n",
              "      border-bottom-color: var(--fill-color);\n",
              "    }\n",
              "  }\n",
              "</style>\n",
              "\n",
              "  <script>\n",
              "    async function quickchart(key) {\n",
              "      const quickchartButtonEl =\n",
              "        document.querySelector('#' + key + ' button');\n",
              "      quickchartButtonEl.disabled = true;  // To prevent multiple clicks.\n",
              "      quickchartButtonEl.classList.add('colab-df-spinner');\n",
              "      try {\n",
              "        const charts = await google.colab.kernel.invokeFunction(\n",
              "            'suggestCharts', [key], {});\n",
              "      } catch (error) {\n",
              "        console.error('Error during call to suggestCharts:', error);\n",
              "      }\n",
              "      quickchartButtonEl.classList.remove('colab-df-spinner');\n",
              "      quickchartButtonEl.classList.add('colab-df-quickchart-complete');\n",
              "    }\n",
              "    (() => {\n",
              "      let quickchartButtonEl =\n",
              "        document.querySelector('#df-1aa760da-b45e-497a-9bd6-c0aa09b9d797 button');\n",
              "      quickchartButtonEl.style.display =\n",
              "        google.colab.kernel.accessAllowed ? 'block' : 'none';\n",
              "    })();\n",
              "  </script>\n",
              "</div>\n",
              "\n",
              "  <div id=\"id_ecde1517-e94b-409b-9dc3-fb9da05433c2\">\n",
              "    <style>\n",
              "      .colab-df-generate {\n",
              "        background-color: #E8F0FE;\n",
              "        border: none;\n",
              "        border-radius: 50%;\n",
              "        cursor: pointer;\n",
              "        display: none;\n",
              "        fill: #1967D2;\n",
              "        height: 32px;\n",
              "        padding: 0 0 0 0;\n",
              "        width: 32px;\n",
              "      }\n",
              "\n",
              "      .colab-df-generate:hover {\n",
              "        background-color: #E2EBFA;\n",
              "        box-shadow: 0px 1px 2px rgba(60, 64, 67, 0.3), 0px 1px 3px 1px rgba(60, 64, 67, 0.15);\n",
              "        fill: #174EA6;\n",
              "      }\n",
              "\n",
              "      [theme=dark] .colab-df-generate {\n",
              "        background-color: #3B4455;\n",
              "        fill: #D2E3FC;\n",
              "      }\n",
              "\n",
              "      [theme=dark] .colab-df-generate:hover {\n",
              "        background-color: #434B5C;\n",
              "        box-shadow: 0px 1px 3px 1px rgba(0, 0, 0, 0.15);\n",
              "        filter: drop-shadow(0px 1px 2px rgba(0, 0, 0, 0.3));\n",
              "        fill: #FFFFFF;\n",
              "      }\n",
              "    </style>\n",
              "    <button class=\"colab-df-generate\" onclick=\"generateWithVariable('ured_filtered')\"\n",
              "            title=\"Generate code using this dataframe.\"\n",
              "            style=\"display:none;\">\n",
              "\n",
              "  <svg xmlns=\"http://www.w3.org/2000/svg\" height=\"24px\"viewBox=\"0 0 24 24\"\n",
              "       width=\"24px\">\n",
              "    <path d=\"M7,19H8.4L18.45,9,17,7.55,7,17.6ZM5,21V16.75L18.45,3.32a2,2,0,0,1,2.83,0l1.4,1.43a1.91,1.91,0,0,1,.58,1.4,1.91,1.91,0,0,1-.58,1.4L9.25,21ZM18.45,9,17,7.55Zm-12,3A5.31,5.31,0,0,0,4.9,8.1,5.31,5.31,0,0,0,1,6.5,5.31,5.31,0,0,0,4.9,4.9,5.31,5.31,0,0,0,6.5,1,5.31,5.31,0,0,0,8.1,4.9,5.31,5.31,0,0,0,12,6.5,5.46,5.46,0,0,0,6.5,12Z\"/>\n",
              "  </svg>\n",
              "    </button>\n",
              "    <script>\n",
              "      (() => {\n",
              "      const buttonEl =\n",
              "        document.querySelector('#id_ecde1517-e94b-409b-9dc3-fb9da05433c2 button.colab-df-generate');\n",
              "      buttonEl.style.display =\n",
              "        google.colab.kernel.accessAllowed ? 'block' : 'none';\n",
              "\n",
              "      buttonEl.onclick = () => {\n",
              "        google.colab.notebook.generateWithVariable('ured_filtered');\n",
              "      }\n",
              "      })();\n",
              "    </script>\n",
              "  </div>\n",
              "\n",
              "    </div>\n",
              "  </div>\n"
            ],
            "application/vnd.google.colaboratory.intrinsic+json": {
              "type": "dataframe",
              "variable_name": "ured_filtered"
            }
          },
          "metadata": {},
          "execution_count": 84
        }
      ]
    },
    {
      "cell_type": "code",
      "source": [
        "ured_filtered.describe()"
      ],
      "metadata": {
        "id": "PQMnxKbtBx0d",
        "outputId": "78c22944-46aa-495f-ac4f-a52af9314536",
        "colab": {
          "base_uri": "https://localhost:8080/",
          "height": 300
        }
      },
      "execution_count": 85,
      "outputs": [
        {
          "output_type": "execute_result",
          "data": {
            "text/plain": [
              "              price           bed          bath      acre_lot      zip_code  \\\n",
              "count  2.224841e+06  1.745065e+06  1.714611e+06  1.900793e+06  2.226083e+06   \n",
              "mean   5.241955e+05  3.275841e+00  2.496440e+00  1.522303e+01  5.218668e+04   \n",
              "std    2.138893e+06  1.567274e+00  1.652573e+00  7.628238e+02  2.895408e+04   \n",
              "min    0.000000e+00  1.000000e+00  1.000000e+00  0.000000e+00  0.000000e+00   \n",
              "25%    1.650000e+05  3.000000e+00  2.000000e+00  1.500000e-01  2.961700e+04   \n",
              "50%    3.250000e+05  3.000000e+00  2.000000e+00  2.600000e-01  4.838200e+04   \n",
              "75%    5.500000e+05  4.000000e+00  3.000000e+00  9.800000e-01  7.807000e+04   \n",
              "max    2.147484e+09  4.730000e+02  8.300000e+02  1.000000e+05  9.999900e+04   \n",
              "\n",
              "         house_size  \n",
              "count  1.657898e+06  \n",
              "mean   2.714471e+03  \n",
              "std    8.081635e+05  \n",
              "min    4.000000e+00  \n",
              "25%    1.300000e+03  \n",
              "50%    1.760000e+03  \n",
              "75%    2.413000e+03  \n",
              "max    1.040400e+09  "
            ],
            "text/html": [
              "\n",
              "  <div id=\"df-e8784c59-07ef-4fc6-932b-60b239d82c16\" class=\"colab-df-container\">\n",
              "    <div>\n",
              "<style scoped>\n",
              "    .dataframe tbody tr th:only-of-type {\n",
              "        vertical-align: middle;\n",
              "    }\n",
              "\n",
              "    .dataframe tbody tr th {\n",
              "        vertical-align: top;\n",
              "    }\n",
              "\n",
              "    .dataframe thead th {\n",
              "        text-align: right;\n",
              "    }\n",
              "</style>\n",
              "<table border=\"1\" class=\"dataframe\">\n",
              "  <thead>\n",
              "    <tr style=\"text-align: right;\">\n",
              "      <th></th>\n",
              "      <th>price</th>\n",
              "      <th>bed</th>\n",
              "      <th>bath</th>\n",
              "      <th>acre_lot</th>\n",
              "      <th>zip_code</th>\n",
              "      <th>house_size</th>\n",
              "    </tr>\n",
              "  </thead>\n",
              "  <tbody>\n",
              "    <tr>\n",
              "      <th>count</th>\n",
              "      <td>2.224841e+06</td>\n",
              "      <td>1.745065e+06</td>\n",
              "      <td>1.714611e+06</td>\n",
              "      <td>1.900793e+06</td>\n",
              "      <td>2.226083e+06</td>\n",
              "      <td>1.657898e+06</td>\n",
              "    </tr>\n",
              "    <tr>\n",
              "      <th>mean</th>\n",
              "      <td>5.241955e+05</td>\n",
              "      <td>3.275841e+00</td>\n",
              "      <td>2.496440e+00</td>\n",
              "      <td>1.522303e+01</td>\n",
              "      <td>5.218668e+04</td>\n",
              "      <td>2.714471e+03</td>\n",
              "    </tr>\n",
              "    <tr>\n",
              "      <th>std</th>\n",
              "      <td>2.138893e+06</td>\n",
              "      <td>1.567274e+00</td>\n",
              "      <td>1.652573e+00</td>\n",
              "      <td>7.628238e+02</td>\n",
              "      <td>2.895408e+04</td>\n",
              "      <td>8.081635e+05</td>\n",
              "    </tr>\n",
              "    <tr>\n",
              "      <th>min</th>\n",
              "      <td>0.000000e+00</td>\n",
              "      <td>1.000000e+00</td>\n",
              "      <td>1.000000e+00</td>\n",
              "      <td>0.000000e+00</td>\n",
              "      <td>0.000000e+00</td>\n",
              "      <td>4.000000e+00</td>\n",
              "    </tr>\n",
              "    <tr>\n",
              "      <th>25%</th>\n",
              "      <td>1.650000e+05</td>\n",
              "      <td>3.000000e+00</td>\n",
              "      <td>2.000000e+00</td>\n",
              "      <td>1.500000e-01</td>\n",
              "      <td>2.961700e+04</td>\n",
              "      <td>1.300000e+03</td>\n",
              "    </tr>\n",
              "    <tr>\n",
              "      <th>50%</th>\n",
              "      <td>3.250000e+05</td>\n",
              "      <td>3.000000e+00</td>\n",
              "      <td>2.000000e+00</td>\n",
              "      <td>2.600000e-01</td>\n",
              "      <td>4.838200e+04</td>\n",
              "      <td>1.760000e+03</td>\n",
              "    </tr>\n",
              "    <tr>\n",
              "      <th>75%</th>\n",
              "      <td>5.500000e+05</td>\n",
              "      <td>4.000000e+00</td>\n",
              "      <td>3.000000e+00</td>\n",
              "      <td>9.800000e-01</td>\n",
              "      <td>7.807000e+04</td>\n",
              "      <td>2.413000e+03</td>\n",
              "    </tr>\n",
              "    <tr>\n",
              "      <th>max</th>\n",
              "      <td>2.147484e+09</td>\n",
              "      <td>4.730000e+02</td>\n",
              "      <td>8.300000e+02</td>\n",
              "      <td>1.000000e+05</td>\n",
              "      <td>9.999900e+04</td>\n",
              "      <td>1.040400e+09</td>\n",
              "    </tr>\n",
              "  </tbody>\n",
              "</table>\n",
              "</div>\n",
              "    <div class=\"colab-df-buttons\">\n",
              "\n",
              "  <div class=\"colab-df-container\">\n",
              "    <button class=\"colab-df-convert\" onclick=\"convertToInteractive('df-e8784c59-07ef-4fc6-932b-60b239d82c16')\"\n",
              "            title=\"Convert this dataframe to an interactive table.\"\n",
              "            style=\"display:none;\">\n",
              "\n",
              "  <svg xmlns=\"http://www.w3.org/2000/svg\" height=\"24px\" viewBox=\"0 -960 960 960\">\n",
              "    <path d=\"M120-120v-720h720v720H120Zm60-500h600v-160H180v160Zm220 220h160v-160H400v160Zm0 220h160v-160H400v160ZM180-400h160v-160H180v160Zm440 0h160v-160H620v160ZM180-180h160v-160H180v160Zm440 0h160v-160H620v160Z\"/>\n",
              "  </svg>\n",
              "    </button>\n",
              "\n",
              "  <style>\n",
              "    .colab-df-container {\n",
              "      display:flex;\n",
              "      gap: 12px;\n",
              "    }\n",
              "\n",
              "    .colab-df-convert {\n",
              "      background-color: #E8F0FE;\n",
              "      border: none;\n",
              "      border-radius: 50%;\n",
              "      cursor: pointer;\n",
              "      display: none;\n",
              "      fill: #1967D2;\n",
              "      height: 32px;\n",
              "      padding: 0 0 0 0;\n",
              "      width: 32px;\n",
              "    }\n",
              "\n",
              "    .colab-df-convert:hover {\n",
              "      background-color: #E2EBFA;\n",
              "      box-shadow: 0px 1px 2px rgba(60, 64, 67, 0.3), 0px 1px 3px 1px rgba(60, 64, 67, 0.15);\n",
              "      fill: #174EA6;\n",
              "    }\n",
              "\n",
              "    .colab-df-buttons div {\n",
              "      margin-bottom: 4px;\n",
              "    }\n",
              "\n",
              "    [theme=dark] .colab-df-convert {\n",
              "      background-color: #3B4455;\n",
              "      fill: #D2E3FC;\n",
              "    }\n",
              "\n",
              "    [theme=dark] .colab-df-convert:hover {\n",
              "      background-color: #434B5C;\n",
              "      box-shadow: 0px 1px 3px 1px rgba(0, 0, 0, 0.15);\n",
              "      filter: drop-shadow(0px 1px 2px rgba(0, 0, 0, 0.3));\n",
              "      fill: #FFFFFF;\n",
              "    }\n",
              "  </style>\n",
              "\n",
              "    <script>\n",
              "      const buttonEl =\n",
              "        document.querySelector('#df-e8784c59-07ef-4fc6-932b-60b239d82c16 button.colab-df-convert');\n",
              "      buttonEl.style.display =\n",
              "        google.colab.kernel.accessAllowed ? 'block' : 'none';\n",
              "\n",
              "      async function convertToInteractive(key) {\n",
              "        const element = document.querySelector('#df-e8784c59-07ef-4fc6-932b-60b239d82c16');\n",
              "        const dataTable =\n",
              "          await google.colab.kernel.invokeFunction('convertToInteractive',\n",
              "                                                    [key], {});\n",
              "        if (!dataTable) return;\n",
              "\n",
              "        const docLinkHtml = 'Like what you see? Visit the ' +\n",
              "          '<a target=\"_blank\" href=https://colab.research.google.com/notebooks/data_table.ipynb>data table notebook</a>'\n",
              "          + ' to learn more about interactive tables.';\n",
              "        element.innerHTML = '';\n",
              "        dataTable['output_type'] = 'display_data';\n",
              "        await google.colab.output.renderOutput(dataTable, element);\n",
              "        const docLink = document.createElement('div');\n",
              "        docLink.innerHTML = docLinkHtml;\n",
              "        element.appendChild(docLink);\n",
              "      }\n",
              "    </script>\n",
              "  </div>\n",
              "\n",
              "\n",
              "<div id=\"df-c5b38c2a-4942-4c7f-8267-626225d57eac\">\n",
              "  <button class=\"colab-df-quickchart\" onclick=\"quickchart('df-c5b38c2a-4942-4c7f-8267-626225d57eac')\"\n",
              "            title=\"Suggest charts\"\n",
              "            style=\"display:none;\">\n",
              "\n",
              "<svg xmlns=\"http://www.w3.org/2000/svg\" height=\"24px\"viewBox=\"0 0 24 24\"\n",
              "     width=\"24px\">\n",
              "    <g>\n",
              "        <path d=\"M19 3H5c-1.1 0-2 .9-2 2v14c0 1.1.9 2 2 2h14c1.1 0 2-.9 2-2V5c0-1.1-.9-2-2-2zM9 17H7v-7h2v7zm4 0h-2V7h2v10zm4 0h-2v-4h2v4z\"/>\n",
              "    </g>\n",
              "</svg>\n",
              "  </button>\n",
              "\n",
              "<style>\n",
              "  .colab-df-quickchart {\n",
              "      --bg-color: #E8F0FE;\n",
              "      --fill-color: #1967D2;\n",
              "      --hover-bg-color: #E2EBFA;\n",
              "      --hover-fill-color: #174EA6;\n",
              "      --disabled-fill-color: #AAA;\n",
              "      --disabled-bg-color: #DDD;\n",
              "  }\n",
              "\n",
              "  [theme=dark] .colab-df-quickchart {\n",
              "      --bg-color: #3B4455;\n",
              "      --fill-color: #D2E3FC;\n",
              "      --hover-bg-color: #434B5C;\n",
              "      --hover-fill-color: #FFFFFF;\n",
              "      --disabled-bg-color: #3B4455;\n",
              "      --disabled-fill-color: #666;\n",
              "  }\n",
              "\n",
              "  .colab-df-quickchart {\n",
              "    background-color: var(--bg-color);\n",
              "    border: none;\n",
              "    border-radius: 50%;\n",
              "    cursor: pointer;\n",
              "    display: none;\n",
              "    fill: var(--fill-color);\n",
              "    height: 32px;\n",
              "    padding: 0;\n",
              "    width: 32px;\n",
              "  }\n",
              "\n",
              "  .colab-df-quickchart:hover {\n",
              "    background-color: var(--hover-bg-color);\n",
              "    box-shadow: 0 1px 2px rgba(60, 64, 67, 0.3), 0 1px 3px 1px rgba(60, 64, 67, 0.15);\n",
              "    fill: var(--button-hover-fill-color);\n",
              "  }\n",
              "\n",
              "  .colab-df-quickchart-complete:disabled,\n",
              "  .colab-df-quickchart-complete:disabled:hover {\n",
              "    background-color: var(--disabled-bg-color);\n",
              "    fill: var(--disabled-fill-color);\n",
              "    box-shadow: none;\n",
              "  }\n",
              "\n",
              "  .colab-df-spinner {\n",
              "    border: 2px solid var(--fill-color);\n",
              "    border-color: transparent;\n",
              "    border-bottom-color: var(--fill-color);\n",
              "    animation:\n",
              "      spin 1s steps(1) infinite;\n",
              "  }\n",
              "\n",
              "  @keyframes spin {\n",
              "    0% {\n",
              "      border-color: transparent;\n",
              "      border-bottom-color: var(--fill-color);\n",
              "      border-left-color: var(--fill-color);\n",
              "    }\n",
              "    20% {\n",
              "      border-color: transparent;\n",
              "      border-left-color: var(--fill-color);\n",
              "      border-top-color: var(--fill-color);\n",
              "    }\n",
              "    30% {\n",
              "      border-color: transparent;\n",
              "      border-left-color: var(--fill-color);\n",
              "      border-top-color: var(--fill-color);\n",
              "      border-right-color: var(--fill-color);\n",
              "    }\n",
              "    40% {\n",
              "      border-color: transparent;\n",
              "      border-right-color: var(--fill-color);\n",
              "      border-top-color: var(--fill-color);\n",
              "    }\n",
              "    60% {\n",
              "      border-color: transparent;\n",
              "      border-right-color: var(--fill-color);\n",
              "    }\n",
              "    80% {\n",
              "      border-color: transparent;\n",
              "      border-right-color: var(--fill-color);\n",
              "      border-bottom-color: var(--fill-color);\n",
              "    }\n",
              "    90% {\n",
              "      border-color: transparent;\n",
              "      border-bottom-color: var(--fill-color);\n",
              "    }\n",
              "  }\n",
              "</style>\n",
              "\n",
              "  <script>\n",
              "    async function quickchart(key) {\n",
              "      const quickchartButtonEl =\n",
              "        document.querySelector('#' + key + ' button');\n",
              "      quickchartButtonEl.disabled = true;  // To prevent multiple clicks.\n",
              "      quickchartButtonEl.classList.add('colab-df-spinner');\n",
              "      try {\n",
              "        const charts = await google.colab.kernel.invokeFunction(\n",
              "            'suggestCharts', [key], {});\n",
              "      } catch (error) {\n",
              "        console.error('Error during call to suggestCharts:', error);\n",
              "      }\n",
              "      quickchartButtonEl.classList.remove('colab-df-spinner');\n",
              "      quickchartButtonEl.classList.add('colab-df-quickchart-complete');\n",
              "    }\n",
              "    (() => {\n",
              "      let quickchartButtonEl =\n",
              "        document.querySelector('#df-c5b38c2a-4942-4c7f-8267-626225d57eac button');\n",
              "      quickchartButtonEl.style.display =\n",
              "        google.colab.kernel.accessAllowed ? 'block' : 'none';\n",
              "    })();\n",
              "  </script>\n",
              "</div>\n",
              "\n",
              "    </div>\n",
              "  </div>\n"
            ],
            "application/vnd.google.colaboratory.intrinsic+json": {
              "type": "dataframe",
              "summary": "{\n  \"name\": \"ured_filtered\",\n  \"rows\": 8,\n  \"fields\": [\n    {\n      \"column\": \"price\",\n      \"properties\": {\n        \"dtype\": \"number\",\n        \"std\": 758951193.1540059,\n        \"min\": 0.0,\n        \"max\": 2147483600.0,\n        \"num_unique_values\": 8,\n        \"samples\": [\n          524195.5192906774,\n          325000.0,\n          2224841.0\n        ],\n        \"semantic_type\": \"\",\n        \"description\": \"\"\n      }\n    },\n    {\n      \"column\": \"bed\",\n      \"properties\": {\n        \"dtype\": \"number\",\n        \"std\": 616948.9792056988,\n        \"min\": 1.0,\n        \"max\": 1745065.0,\n        \"num_unique_values\": 7,\n        \"samples\": [\n          1745065.0,\n          3.2758407279958055,\n          4.0\n        ],\n        \"semantic_type\": \"\",\n        \"description\": \"\"\n      }\n    },\n    {\n      \"column\": \"bath\",\n      \"properties\": {\n        \"dtype\": \"number\",\n        \"std\": 606164.0668923962,\n        \"min\": 1.0,\n        \"max\": 1714611.0,\n        \"num_unique_values\": 7,\n        \"samples\": [\n          1714611.0,\n          2.496440300452989,\n          3.0\n        ],\n        \"semantic_type\": \"\",\n        \"description\": \"\"\n      }\n    },\n    {\n      \"column\": \"acre_lot\",\n      \"properties\": {\n        \"dtype\": \"number\",\n        \"std\": 667856.708700884,\n        \"min\": 0.0,\n        \"max\": 1900793.0,\n        \"num_unique_values\": 8,\n        \"samples\": [\n          15.223027446965554,\n          0.26,\n          1900793.0\n        ],\n        \"semantic_type\": \"\",\n        \"description\": \"\"\n      }\n    },\n    {\n      \"column\": \"zip_code\",\n      \"properties\": {\n        \"dtype\": \"number\",\n        \"std\": 770622.3773379677,\n        \"min\": 0.0,\n        \"max\": 2226083.0,\n        \"num_unique_values\": 8,\n        \"samples\": [\n          52186.67634135834,\n          48382.0,\n          2226083.0\n        ],\n        \"semantic_type\": \"\",\n        \"description\": \"\"\n      }\n    },\n    {\n      \"column\": \"house_size\",\n      \"properties\": {\n        \"dtype\": \"number\",\n        \"std\": 367712611.26063085,\n        \"min\": 4.0,\n        \"max\": 1040400400.0,\n        \"num_unique_values\": 8,\n        \"samples\": [\n          2714.471334786579,\n          1760.0,\n          1657898.0\n        ],\n        \"semantic_type\": \"\",\n        \"description\": \"\"\n      }\n    }\n  ]\n}"
            }
          },
          "metadata": {},
          "execution_count": 85
        }
      ]
    },
    {
      "cell_type": "markdown",
      "source": [
        "price - to nasz target - ciągła wartość\n",
        "\n",
        "bed - wartość dyskretna\n",
        "\n",
        "bath - wartość dyskretna\n",
        "\n",
        "acre_lot - wartość ciągła\n",
        "\n",
        "city - wartość dyskretna, nominalna\n",
        "\n",
        "state - dysk. nominalna\n",
        "\n",
        "zip code - dysk, nominalna\n",
        "\n",
        "house size - ciągła\n",
        "\n",
        "prev_sold_date - data, dyskretna\n"
      ],
      "metadata": {
        "id": "Hx846eC7Tm6y"
      }
    },
    {
      "cell_type": "markdown",
      "source": [
        "#### Handling outliers\n",
        "\n",
        "Before handling null values, we must handle the outliers. Since handling null values takes into account using means, modes etc., this step is essential to ensure the proper learning of the final model.\n",
        "\n",
        "Before we will handle anything, we will draw box plots of the values included in the columns."
      ],
      "metadata": {
        "id": "Ibfx2OTRTjs9"
      }
    },
    {
      "cell_type": "code",
      "source": [
        "import matplotlib.pyplot as plt\n",
        "import seaborn as sns\n",
        "def plot_boxplot(dataset: pd.DataFrame, column: str):\n",
        "    \"\"\"\n",
        "    Rysuje boxplot dla jednej kolumny w podanym DataFrame.\n",
        "    \"\"\"\n",
        "    plt.figure(figsize=(6, 6))\n",
        "    sns.set(style=\"whitegrid\")\n",
        "\n",
        "    sns.boxplot(y=dataset[column].dropna())\n",
        "    plt.yscale('log')\n",
        "    plt.title(f'Boxplot: {column}')\n",
        "    plt.ylabel(column)\n",
        "    plt.tight_layout()\n",
        "    plt.show()"
      ],
      "metadata": {
        "id": "D9TSUDwxUbVt"
      },
      "execution_count": 86,
      "outputs": []
    },
    {
      "cell_type": "code",
      "source": [
        "plot_boxplot(ured_filtered, 'bed')\n",
        "plot_boxplot(ured_filtered, 'bath')\n",
        "plot_boxplot(ured_filtered, 'acre_lot')\n",
        "plot_boxplot(ured_filtered, 'house_size')"
      ],
      "metadata": {
        "colab": {
          "base_uri": "https://localhost:8080/",
          "height": 1000
        },
        "id": "vwRW7mL9U4zQ",
        "outputId": "0da167d3-c2bc-4006-8f3b-5418bcbfe8bf"
      },
      "execution_count": 87,
      "outputs": [
        {
          "output_type": "display_data",
          "data": {
            "text/plain": [
              "<Figure size 600x600 with 1 Axes>"
            ],
            "image/png": "[encoded data removed]"
          },
          "metadata": {}
        },
        {
          "output_type": "display_data",
          "data": {
            "text/plain": [
              "<Figure size 600x600 with 1 Axes>"
            ],
            "image/png": "[encoded data removed]"
          },
          "metadata": {}
        },
        {
          "output_type": "display_data",
          "data": {
            "text/plain": [
              "<Figure size 600x600 with 1 Axes>"
            ],
            "image/png": "[encoded data removed]"
          },
          "metadata": {}
        },
        {
          "output_type": "display_data",
          "data": {
            "text/plain": [
              "<Figure size 600x600 with 1 Axes>"
            ],
            "image/png": "[encoded data removed]"
          },
          "metadata": {}
        }
      ]
    },
    {
      "cell_type": "markdown",
      "source": [
        "We can see that there are a lot of entries with large numbers of bedrooms and bathrooms. We can assume, that it means, that it can be a large block of flats, counted as one real estate. To verify that, we can draw a scatterplot to look for outliers."
      ],
      "metadata": {
        "id": "U1bh2WFYYvQJ"
      }
    },
    {
      "cell_type": "code",
      "source": [
        "def plot_scatterplot(dataset: pd.DataFrame, x_col: str, y_col: str):\n",
        "    plt.figure(figsize=(8, 6))\n",
        "    sns.set(style=\"whitegrid\")\n",
        "\n",
        "    sns.scatterplot(data=dataset, x=x_col, y=y_col)\n",
        "    plt.title(f'Scatterplot: {x_col} vs {y_col}')\n",
        "    plt.xlabel(x_col)\n",
        "    plt.ylabel(y_col)\n",
        "    plt.tight_layout()\n",
        "    plt.show()"
      ],
      "metadata": {
        "id": "MDFzd27pZDz_"
      },
      "execution_count": 88,
      "outputs": []
    },
    {
      "cell_type": "code",
      "source": [
        "plot_scatterplot(ured_filtered, 'bed', 'bath')"
      ],
      "metadata": {
        "colab": {
          "base_uri": "https://localhost:8080/",
          "height": 601
        },
        "id": "GUo99gH6ZMj7",
        "outputId": "7d7d4fcb-ebd3-4c54-9f8b-7da122276b04"
      },
      "execution_count": 89,
      "outputs": [
        {
          "output_type": "display_data",
          "data": {
            "text/plain": [
              "<Figure size 800x600 with 1 Axes>"
            ],
            "image/png": "[encoded data removed]"
          },
          "metadata": {}
        }
      ]
    },
    {
      "cell_type": "markdown",
      "source": [
        "As we can see, the number of bedrooms slightly correlates with the number of bathrooms. Since situations, where there is a singular bathroom (or even none) for a lot of bedrooms, are still common in real life, we can assume, that an outlier will be a situation, where there are more than 2 bathrooms for every bedroom."
      ],
      "metadata": {
        "id": "a1re3Tq-ZqlC"
      }
    },
    {
      "cell_type": "code",
      "source": [
        "ured_filtered = ured_filtered[\n",
        "    (ured_filtered['bath'] < 2 * ured_filtered['bed']) |\n",
        "     (ured_filtered['bed'].isna()) |\n",
        "      (ured_filtered['bath'].isna()) ]"
      ],
      "metadata": {
        "id": "St59YpHGdG0g"
      },
      "execution_count": 92,
      "outputs": []
    },
    {
      "cell_type": "code",
      "source": [
        "plot_scatterplot(ured_filtered, 'bed', 'bath')"
      ],
      "metadata": {
        "colab": {
          "base_uri": "https://localhost:8080/",
          "height": 601
        },
        "id": "fJBji-QMdSY9",
        "outputId": "2c7f3b94-b6d0-4b65-8a44-9ddbcfeaa38c"
      },
      "execution_count": 93,
      "outputs": [
        {
          "output_type": "display_data",
          "data": {
            "text/plain": [
              "<Figure size 800x600 with 1 Axes>"
            ],
            "image/png": "[encoded data removed]"
          },
          "metadata": {}
        }
      ]
    },
    {
      "cell_type": "markdown",
      "source": [
        "Now, the bathroom-bedroom situation looks a lot better. The acre_lot makes sense, since there are real-estates e.g. in the countryside, which lots are very large (ranches, for example, can span for tens of squared kilometers).\n",
        "\n",
        "We can do the same for house_size as we did for bathrooms, since it represents the living space in square feet. We will compare the house_size and plot_acres on a scatter plot to weed out the outliers.\n",
        "\n",
        "Keep in mind that one acre is 43560 square feet."
      ],
      "metadata": {
        "id": "UJFrIILUWiy_"
      }
    },
    {
      "cell_type": "code",
      "source": [
        "plot_scatterplot(ured_filtered, 'acre_lot', 'house_size')"
      ],
      "metadata": {
        "colab": {
          "base_uri": "https://localhost:8080/",
          "height": 601
        },
        "id": "2VGIR9cUe5hr",
        "outputId": "9e488b4c-ebf1-4bb4-ca67-ad523192af20"
      },
      "execution_count": 94,
      "outputs": [
        {
          "output_type": "display_data",
          "data": {
            "text/plain": [
              "<Figure size 800x600 with 1 Axes>"
            ],
            "image/png": "[encoded data removed]"
          },
          "metadata": {}
        }
      ]
    },
    {
      "cell_type": "markdown",
      "source": [
        "As we can see, there aren't large discrepancies and oubvious outliers seen on this graph. The entries with house_size close to 0 make sense, especially for rural properties with large lots. Furthermore, entries with acre_lot close to 0 also make sense, since it can mean, that entry is based on the measures of a skyscraper or a block of flats. To be sure, 1000000 square feet is about 90000 square meters, which is still absurdly large, and we can qualify this as an outlier\n",
        "\n",
        "Since all data in acre_lot makes sense, and there can be outliers in house_size, we will delete entries that are in the top 0.1% of the house_size."
      ],
      "metadata": {
        "id": "ChBrdJYJh1GS"
      }
    },
    {
      "cell_type": "code",
      "source": [
        "def remove_outliers(dataset: pd.DataFrame, x_col: str):\n",
        "    p99 = dataset[x_col].quantile(0.999)\n",
        "    print(p99)\n",
        "    filtered_data = dataset[\n",
        "        (dataset[x_col] <= p99)\n",
        "    ]\n",
        "\n",
        "    return filtered_data"
      ],
      "metadata": {
        "id": "5rh0Oa4gh074"
      },
      "execution_count": 95,
      "outputs": []
    },
    {
      "cell_type": "code",
      "source": [
        "ured_outliers_fixed = remove_outliers(ured_filtered, 'house_size')"
      ],
      "metadata": {
        "colab": {
          "base_uri": "https://localhost:8080/"
        },
        "id": "OdxVFuyXjfB2",
        "outputId": "7b7bbc7b-3694-45e0-f448-ae9ae69804fa"
      },
      "execution_count": 96,
      "outputs": [
        {
          "output_type": "stream",
          "name": "stdout",
          "text": [
            "14295.51200000057\n"
          ]
        }
      ]
    },
    {
      "cell_type": "code",
      "source": [
        "ured_filtered = ured_outliers_fixed"
      ],
      "metadata": {
        "id": "G-_kFoo4lDZZ"
      },
      "execution_count": 97,
      "outputs": []
    },
    {
      "cell_type": "code",
      "source": [
        "plot_scatterplot(ured_filtered, 'acre_lot', 'house_size')"
      ],
      "metadata": {
        "colab": {
          "base_uri": "https://localhost:8080/",
          "height": 601
        },
        "id": "iMnKPwukjl7W",
        "outputId": "566ed038-d38e-4789-ba49-c5220a762420"
      },
      "execution_count": 98,
      "outputs": [
        {
          "output_type": "display_data",
          "data": {
            "text/plain": [
              "<Figure size 800x600 with 1 Axes>"
            ],
            "image/png": "[encoded data removed]"
          },
          "metadata": {}
        }
      ]
    },
    {
      "cell_type": "markdown",
      "source": [
        "Now, we will filter the dates. For every not null prev_sold_date, we will filter out the data between 1900 and 2024 (the year the dataset was created)."
      ],
      "metadata": {
        "id": "eovm3hrwoLWK"
      }
    },
    {
      "cell_type": "code",
      "source": [
        "ured_filter_date = ured_filtered"
      ],
      "metadata": {
        "id": "a8My1X1non9y"
      },
      "execution_count": 102,
      "outputs": []
    },
    {
      "cell_type": "code",
      "source": [
        "# prompt: Now, we will filter the dates. For every not null prev_sold_date, we will filter out the data between 1900 and 2024 (the year the dataset was created). There are dates within that will crash the system, like year 3065, so work on strings. The prev_sold_date is either NaN or in format of YYYY-MM-DD.\n",
        "\n",
        "# Filter dates between 1900 and 2024\n",
        "ured_filter_date = ured_filter_date[\n",
        "    (ured_filter_date['prev_sold_date'].isnull()) |\n",
        "    (ured_filter_date['prev_sold_date']\n",
        "     .str.slice(0, 4)\n",
        "     .apply(pd.to_numeric, errors='coerce')  # Convert to numeric, invalid parsing will become NaN\n",
        "     .between(1900, 2025))\n",
        "]\n"
      ],
      "metadata": {
        "id": "yWVe3fvHoK_v"
      },
      "execution_count": 105,
      "outputs": []
    },
    {
      "cell_type": "code",
      "source": [
        "ured_filtered = ured_filter_date"
      ],
      "metadata": {
        "id": "7Y8eW9S6pYuc"
      },
      "execution_count": 108,
      "outputs": []
    },
    {
      "cell_type": "markdown",
      "source": [
        "#### Clearing empty values\n",
        "\n",
        "Firstly, let's inspect the columns for empty values"
      ],
      "metadata": {
        "id": "qmg-ztQTkS_g"
      }
    },
    {
      "cell_type": "code",
      "source": [
        "def count_nans(dataset):\n",
        "  for column in dataset.columns:\n",
        "    print(f'{column}: {dataset[column].isna().sum()}')"
      ],
      "metadata": {
        "id": "q50y39zPklCA"
      },
      "execution_count": 109,
      "outputs": []
    },
    {
      "cell_type": "code",
      "source": [
        "count_nans(ured_filtered)"
      ],
      "metadata": {
        "colab": {
          "base_uri": "https://localhost:8080/"
        },
        "id": "-d5u8IdkkuzM",
        "outputId": "d68b1f32-dc7b-4281-9a28-6094f9e21961"
      },
      "execution_count": 110,
      "outputs": [
        {
          "output_type": "stream",
          "name": "stdout",
          "text": [
            "price: 0\n",
            "bed: 0\n",
            "bath: 0\n",
            "acre_lot: 0\n",
            "city: 0\n",
            "state: 0\n",
            "zip_code: 0\n",
            "house_size: 0\n",
            "prev_sold_date: 383836\n"
          ]
        }
      ]
    },
    {
      "cell_type": "markdown",
      "source": [
        "Handling NaN values:\n",
        "\n",
        "- in 'price' - entries will be dropped\n",
        "- in 'bed' and 'bath' - mode\n",
        "- in 'acre_lot' - median\n",
        "- in 'city', 'state', 'zip' - entries will be dropped\n",
        "- in 'house_size' - median\n",
        "\n",
        "- for 'prev_sold_date' we will introduce two new variables, that indicate, if the property has been sold before, and years since the last selling date, since it could affect the final price."
      ],
      "metadata": {
        "id": "kf3qOANumb9T"
      }
    },
    {
      "cell_type": "code",
      "source": [
        "ured_filtered = ured_filtered.dropna(subset=['price', 'city', 'state', 'zip_code'])\n",
        "ured_filtered = ured_filtered.fillna({'bed': ured_filtered['bed'].mode()[0],\n",
        "                                      'bath': ured_filtered['bath'].mode()[0],\n",
        "                                      'acre_lot': ured_filtered['acre_lot'].median(),\n",
        "                                      'house_size': ured_filtered['house_size'].median()})"
      ],
      "metadata": {
        "id": "SqL05H0cDchL"
      },
      "execution_count": 111,
      "outputs": []
    },
    {
      "cell_type": "markdown",
      "source": [
        "Now, we will handle 'prev_sold_date'. We introduce a dummy attribute 'sold_before', which will be of binary type. If 'prev_sold_date' is NaN, then we assign 0 to 'sold_before', meaning, that the property hasn't been sold before. Otherwise, we assign 1. Then, we will drop 'sold_before' column.\n",
        "\n",
        "Also, we will introduce another dummy variable of numerical discreet type, called 'years_since_sold' that will help us determine the potential house age. The data was collected in 2024, and that will be our reference date for calculating the age."
      ],
      "metadata": {
        "id": "ZLm9U6EVQcMN"
      }
    },
    {
      "cell_type": "code",
      "source": [
        "ured_filtered['sold_before'] = 0\n",
        "ured_filtered.loc[ured_filtered['prev_sold_date'].notna(), 'sold_before'] = 1"
      ],
      "metadata": {
        "id": "jLdOniF4QcB7"
      },
      "execution_count": 112,
      "outputs": []
    },
    {
      "cell_type": "code",
      "source": [
        "ured_filtered['years_since_sold'] = 0\n",
        "ured_filtered.loc[ured_filtered['prev_sold_date'].notna(), 'years_since_sold'] = 2024 - pd.to_datetime(ured_filtered.loc[ured_filtered['prev_sold_date'].notna(), 'prev_sold_date']).dt.year"
      ],
      "metadata": {
        "id": "M0rQSLQUTOFo"
      },
      "execution_count": 113,
      "outputs": []
    },
    {
      "cell_type": "code",
      "source": [
        "ured_filtered = ured_filtered.drop(columns=['prev_sold_date'])\n",
        "ured_filtered.head()"
      ],
      "metadata": {
        "colab": {
          "base_uri": "https://localhost:8080/",
          "height": 206
        },
        "id": "ArKCyOjuRNQx",
        "outputId": "366c0c94-fe95-4d1a-de2b-dabe20cd5f2e"
      },
      "execution_count": 116,
      "outputs": [
        {
          "output_type": "execute_result",
          "data": {
            "text/plain": [
              "      price  bed  bath  acre_lot           city        state  zip_code  \\\n",
              "0  105000.0  3.0   2.0      0.12       Adjuntas  Puerto Rico     601.0   \n",
              "1   80000.0  4.0   2.0      0.08       Adjuntas  Puerto Rico     601.0   \n",
              "2   67000.0  2.0   1.0      0.15     Juana Diaz  Puerto Rico     795.0   \n",
              "3  145000.0  4.0   2.0      0.10          Ponce  Puerto Rico     731.0   \n",
              "5  179000.0  4.0   3.0      0.46  San Sebastian  Puerto Rico     612.0   \n",
              "\n",
              "   house_size  sold_before  years_since_sold  \n",
              "0       920.0            0                 0  \n",
              "1      1527.0            0                 0  \n",
              "2       748.0            0                 0  \n",
              "3      1800.0            0                 0  \n",
              "5      2520.0            0                 0  "
            ],
            "text/html": [
              "\n",
              "  <div id=\"df-9452141c-f151-4aa3-b587-5a27aae32ae0\" class=\"colab-df-container\">\n",
              "    <div>\n",
              "<style scoped>\n",
              "    .dataframe tbody tr th:only-of-type {\n",
              "        vertical-align: middle;\n",
              "    }\n",
              "\n",
              "    .dataframe tbody tr th {\n",
              "        vertical-align: top;\n",
              "    }\n",
              "\n",
              "    .dataframe thead th {\n",
              "        text-align: right;\n",
              "    }\n",
              "</style>\n",
              "<table border=\"1\" class=\"dataframe\">\n",
              "  <thead>\n",
              "    <tr style=\"text-align: right;\">\n",
              "      <th></th>\n",
              "      <th>price</th>\n",
              "      <th>bed</th>\n",
              "      <th>bath</th>\n",
              "      <th>acre_lot</th>\n",
              "      <th>city</th>\n",
              "      <th>state</th>\n",
              "      <th>zip_code</th>\n",
              "      <th>house_size</th>\n",
              "      <th>sold_before</th>\n",
              "      <th>years_since_sold</th>\n",
              "    </tr>\n",
              "  </thead>\n",
              "  <tbody>\n",
              "    <tr>\n",
              "      <th>0</th>\n",
              "      <td>105000.0</td>\n",
              "      <td>3.0</td>\n",
              "      <td>2.0</td>\n",
              "      <td>0.12</td>\n",
              "      <td>Adjuntas</td>\n",
              "      <td>Puerto Rico</td>\n",
              "      <td>601.0</td>\n",
              "      <td>920.0</td>\n",
              "      <td>0</td>\n",
              "      <td>0</td>\n",
              "    </tr>\n",
              "    <tr>\n",
              "      <th>1</th>\n",
              "      <td>80000.0</td>\n",
              "      <td>4.0</td>\n",
              "      <td>2.0</td>\n",
              "      <td>0.08</td>\n",
              "      <td>Adjuntas</td>\n",
              "      <td>Puerto Rico</td>\n",
              "      <td>601.0</td>\n",
              "      <td>1527.0</td>\n",
              "      <td>0</td>\n",
              "      <td>0</td>\n",
              "    </tr>\n",
              "    <tr>\n",
              "      <th>2</th>\n",
              "      <td>67000.0</td>\n",
              "      <td>2.0</td>\n",
              "      <td>1.0</td>\n",
              "      <td>0.15</td>\n",
              "      <td>Juana Diaz</td>\n",
              "      <td>Puerto Rico</td>\n",
              "      <td>795.0</td>\n",
              "      <td>748.0</td>\n",
              "      <td>0</td>\n",
              "      <td>0</td>\n",
              "    </tr>\n",
              "    <tr>\n",
              "      <th>3</th>\n",
              "      <td>145000.0</td>\n",
              "      <td>4.0</td>\n",
              "      <td>2.0</td>\n",
              "      <td>0.10</td>\n",
              "      <td>Ponce</td>\n",
              "      <td>Puerto Rico</td>\n",
              "      <td>731.0</td>\n",
              "      <td>1800.0</td>\n",
              "      <td>0</td>\n",
              "      <td>0</td>\n",
              "    </tr>\n",
              "    <tr>\n",
              "      <th>5</th>\n",
              "      <td>179000.0</td>\n",
              "      <td>4.0</td>\n",
              "      <td>3.0</td>\n",
              "      <td>0.46</td>\n",
              "      <td>San Sebastian</td>\n",
              "      <td>Puerto Rico</td>\n",
              "      <td>612.0</td>\n",
              "      <td>2520.0</td>\n",
              "      <td>0</td>\n",
              "      <td>0</td>\n",
              "    </tr>\n",
              "  </tbody>\n",
              "</table>\n",
              "</div>\n",
              "    <div class=\"colab-df-buttons\">\n",
              "\n",
              "  <div class=\"colab-df-container\">\n",
              "    <button class=\"colab-df-convert\" onclick=\"convertToInteractive('df-9452141c-f151-4aa3-b587-5a27aae32ae0')\"\n",
              "            title=\"Convert this dataframe to an interactive table.\"\n",
              "            style=\"display:none;\">\n",
              "\n",
              "  <svg xmlns=\"http://www.w3.org/2000/svg\" height=\"24px\" viewBox=\"0 -960 960 960\">\n",
              "    <path d=\"M120-120v-720h720v720H120Zm60-500h600v-160H180v160Zm220 220h160v-160H400v160Zm0 220h160v-160H400v160ZM180-400h160v-160H180v160Zm440 0h160v-160H620v160ZM180-180h160v-160H180v160Zm440 0h160v-160H620v160Z\"/>\n",
              "  </svg>\n",
              "    </button>\n",
              "\n",
              "  <style>\n",
              "    .colab-df-container {\n",
              "      display:flex;\n",
              "      gap: 12px;\n",
              "    }\n",
              "\n",
              "    .colab-df-convert {\n",
              "      background-color: #E8F0FE;\n",
              "      border: none;\n",
              "      border-radius: 50%;\n",
              "      cursor: pointer;\n",
              "      display: none;\n",
              "      fill: #1967D2;\n",
              "      height: 32px;\n",
              "      padding: 0 0 0 0;\n",
              "      width: 32px;\n",
              "    }\n",
              "\n",
              "    .colab-df-convert:hover {\n",
              "      background-color: #E2EBFA;\n",
              "      box-shadow: 0px 1px 2px rgba(60, 64, 67, 0.3), 0px 1px 3px 1px rgba(60, 64, 67, 0.15);\n",
              "      fill: #174EA6;\n",
              "    }\n",
              "\n",
              "    .colab-df-buttons div {\n",
              "      margin-bottom: 4px;\n",
              "    }\n",
              "\n",
              "    [theme=dark] .colab-df-convert {\n",
              "      background-color: #3B4455;\n",
              "      fill: #D2E3FC;\n",
              "    }\n",
              "\n",
              "    [theme=dark] .colab-df-convert:hover {\n",
              "      background-color: #434B5C;\n",
              "      box-shadow: 0px 1px 3px 1px rgba(0, 0, 0, 0.15);\n",
              "      filter: drop-shadow(0px 1px 2px rgba(0, 0, 0, 0.3));\n",
              "      fill: #FFFFFF;\n",
              "    }\n",
              "  </style>\n",
              "\n",
              "    <script>\n",
              "      const buttonEl =\n",
              "        document.querySelector('#df-9452141c-f151-4aa3-b587-5a27aae32ae0 button.colab-df-convert');\n",
              "      buttonEl.style.display =\n",
              "        google.colab.kernel.accessAllowed ? 'block' : 'none';\n",
              "\n",
              "      async function convertToInteractive(key) {\n",
              "        const element = document.querySelector('#df-9452141c-f151-4aa3-b587-5a27aae32ae0');\n",
              "        const dataTable =\n",
              "          await google.colab.kernel.invokeFunction('convertToInteractive',\n",
              "                                                    [key], {});\n",
              "        if (!dataTable) return;\n",
              "\n",
              "        const docLinkHtml = 'Like what you see? Visit the ' +\n",
              "          '<a target=\"_blank\" href=https://colab.research.google.com/notebooks/data_table.ipynb>data table notebook</a>'\n",
              "          + ' to learn more about interactive tables.';\n",
              "        element.innerHTML = '';\n",
              "        dataTable['output_type'] = 'display_data';\n",
              "        await google.colab.output.renderOutput(dataTable, element);\n",
              "        const docLink = document.createElement('div');\n",
              "        docLink.innerHTML = docLinkHtml;\n",
              "        element.appendChild(docLink);\n",
              "      }\n",
              "    </script>\n",
              "  </div>\n",
              "\n",
              "\n",
              "<div id=\"df-07352708-80c4-45e9-a0f6-fc82ec467d3f\">\n",
              "  <button class=\"colab-df-quickchart\" onclick=\"quickchart('df-07352708-80c4-45e9-a0f6-fc82ec467d3f')\"\n",
              "            title=\"Suggest charts\"\n",
              "            style=\"display:none;\">\n",
              "\n",
              "<svg xmlns=\"http://www.w3.org/2000/svg\" height=\"24px\"viewBox=\"0 0 24 24\"\n",
              "     width=\"24px\">\n",
              "    <g>\n",
              "        <path d=\"M19 3H5c-1.1 0-2 .9-2 2v14c0 1.1.9 2 2 2h14c1.1 0 2-.9 2-2V5c0-1.1-.9-2-2-2zM9 17H7v-7h2v7zm4 0h-2V7h2v10zm4 0h-2v-4h2v4z\"/>\n",
              "    </g>\n",
              "</svg>\n",
              "  </button>\n",
              "\n",
              "<style>\n",
              "  .colab-df-quickchart {\n",
              "      --bg-color: #E8F0FE;\n",
              "      --fill-color: #1967D2;\n",
              "      --hover-bg-color: #E2EBFA;\n",
              "      --hover-fill-color: #174EA6;\n",
              "      --disabled-fill-color: #AAA;\n",
              "      --disabled-bg-color: #DDD;\n",
              "  }\n",
              "\n",
              "  [theme=dark] .colab-df-quickchart {\n",
              "      --bg-color: #3B4455;\n",
              "      --fill-color: #D2E3FC;\n",
              "      --hover-bg-color: #434B5C;\n",
              "      --hover-fill-color: #FFFFFF;\n",
              "      --disabled-bg-color: #3B4455;\n",
              "      --disabled-fill-color: #666;\n",
              "  }\n",
              "\n",
              "  .colab-df-quickchart {\n",
              "    background-color: var(--bg-color);\n",
              "    border: none;\n",
              "    border-radius: 50%;\n",
              "    cursor: pointer;\n",
              "    display: none;\n",
              "    fill: var(--fill-color);\n",
              "    height: 32px;\n",
              "    padding: 0;\n",
              "    width: 32px;\n",
              "  }\n",
              "\n",
              "  .colab-df-quickchart:hover {\n",
              "    background-color: var(--hover-bg-color);\n",
              "    box-shadow: 0 1px 2px rgba(60, 64, 67, 0.3), 0 1px 3px 1px rgba(60, 64, 67, 0.15);\n",
              "    fill: var(--button-hover-fill-color);\n",
              "  }\n",
              "\n",
              "  .colab-df-quickchart-complete:disabled,\n",
              "  .colab-df-quickchart-complete:disabled:hover {\n",
              "    background-color: var(--disabled-bg-color);\n",
              "    fill: var(--disabled-fill-color);\n",
              "    box-shadow: none;\n",
              "  }\n",
              "\n",
              "  .colab-df-spinner {\n",
              "    border: 2px solid var(--fill-color);\n",
              "    border-color: transparent;\n",
              "    border-bottom-color: var(--fill-color);\n",
              "    animation:\n",
              "      spin 1s steps(1) infinite;\n",
              "  }\n",
              "\n",
              "  @keyframes spin {\n",
              "    0% {\n",
              "      border-color: transparent;\n",
              "      border-bottom-color: var(--fill-color);\n",
              "      border-left-color: var(--fill-color);\n",
              "    }\n",
              "    20% {\n",
              "      border-color: transparent;\n",
              "      border-left-color: var(--fill-color);\n",
              "      border-top-color: var(--fill-color);\n",
              "    }\n",
              "    30% {\n",
              "      border-color: transparent;\n",
              "      border-left-color: var(--fill-color);\n",
              "      border-top-color: var(--fill-color);\n",
              "      border-right-color: var(--fill-color);\n",
              "    }\n",
              "    40% {\n",
              "      border-color: transparent;\n",
              "      border-right-color: var(--fill-color);\n",
              "      border-top-color: var(--fill-color);\n",
              "    }\n",
              "    60% {\n",
              "      border-color: transparent;\n",
              "      border-right-color: var(--fill-color);\n",
              "    }\n",
              "    80% {\n",
              "      border-color: transparent;\n",
              "      border-right-color: var(--fill-color);\n",
              "      border-bottom-color: var(--fill-color);\n",
              "    }\n",
              "    90% {\n",
              "      border-color: transparent;\n",
              "      border-bottom-color: var(--fill-color);\n",
              "    }\n",
              "  }\n",
              "</style>\n",
              "\n",
              "  <script>\n",
              "    async function quickchart(key) {\n",
              "      const quickchartButtonEl =\n",
              "        document.querySelector('#' + key + ' button');\n",
              "      quickchartButtonEl.disabled = true;  // To prevent multiple clicks.\n",
              "      quickchartButtonEl.classList.add('colab-df-spinner');\n",
              "      try {\n",
              "        const charts = await google.colab.kernel.invokeFunction(\n",
              "            'suggestCharts', [key], {});\n",
              "      } catch (error) {\n",
              "        console.error('Error during call to suggestCharts:', error);\n",
              "      }\n",
              "      quickchartButtonEl.classList.remove('colab-df-spinner');\n",
              "      quickchartButtonEl.classList.add('colab-df-quickchart-complete');\n",
              "    }\n",
              "    (() => {\n",
              "      let quickchartButtonEl =\n",
              "        document.querySelector('#df-07352708-80c4-45e9-a0f6-fc82ec467d3f button');\n",
              "      quickchartButtonEl.style.display =\n",
              "        google.colab.kernel.accessAllowed ? 'block' : 'none';\n",
              "    })();\n",
              "  </script>\n",
              "</div>\n",
              "\n",
              "    </div>\n",
              "  </div>\n"
            ],
            "application/vnd.google.colaboratory.intrinsic+json": {
              "type": "dataframe",
              "variable_name": "ured_filtered"
            }
          },
          "metadata": {},
          "execution_count": 116
        }
      ]
    },
    {
      "cell_type": "markdown",
      "source": [
        "Now, we check if there are any NaNs left"
      ],
      "metadata": {
        "id": "phqsR_WTQAYJ"
      }
    },
    {
      "cell_type": "code",
      "source": [
        "count_nans(ured_filtered)"
      ],
      "metadata": {
        "colab": {
          "base_uri": "https://localhost:8080/"
        },
        "id": "KqDMGV-0QHjI",
        "outputId": "1145fec2-ef85-45ba-f7a2-24d2b3fff41e"
      },
      "execution_count": 117,
      "outputs": [
        {
          "output_type": "stream",
          "name": "stdout",
          "text": [
            "price: 0\n",
            "bed: 0\n",
            "bath: 0\n",
            "acre_lot: 0\n",
            "city: 0\n",
            "state: 0\n",
            "zip_code: 0\n",
            "house_size: 0\n",
            "sold_before: 0\n",
            "years_since_sold: 0\n"
          ]
        }
      ]
    },
    {
      "cell_type": "markdown",
      "source": [
        "#### Normalization and standardization of data\n",
        "\n",
        "To correctly standardize the data, we first must draw the distributions of the data."
      ],
      "metadata": {
        "id": "sx_ayrXkq3QL"
      }
    },
    {
      "cell_type": "code",
      "source": [
        "def draw_histogram(data, num_bins=10, title='Histogram', xlabel='Values', ylabel='Frequency'):\n",
        "    \"\"\"\n",
        "    Draws a histogram from the provided data.\n",
        "\n",
        "    Parameters:\n",
        "    - data: list or array of numeric values\n",
        "    - num_bins: number of bins for the histogram (default is 10)\n",
        "    - title: title of the plot\n",
        "    - xlabel: label for the X-axis\n",
        "    - ylabel: label for the Y-axis\n",
        "    \"\"\"\n",
        "    plt.figure(figsize=(8, 5))\n",
        "    plt.hist(data, bins=num_bins, edgecolor='black', color='skyblue')\n",
        "    plt.title(title)\n",
        "    plt.xlabel(xlabel)\n",
        "    plt.ylabel(ylabel)\n",
        "    plt.grid(True)\n",
        "    plt.show()"
      ],
      "metadata": {
        "id": "gguzQbcurM8t"
      },
      "execution_count": 118,
      "outputs": []
    },
    {
      "cell_type": "code",
      "source": [
        "draw"
      ],
      "metadata": {
        "id": "0DzzGFe7sSk1"
      },
      "execution_count": null,
      "outputs": []
    },
    {
      "cell_type": "code",
      "source": [
        "draw_histograms(ured_filtered, ['price', 'bed', 'bath', 'acre_lot', 'house_size', 'years_since_sold'])"
      ],
      "metadata": {
        "id": "5ZrXqm3irZ2l",
        "outputId": "acc6a26e-718e-4f30-8d4f-6b941b7adfd3",
        "colab": {
          "base_uri": "https://localhost:8080/",
          "height": 301
        }
      },
      "execution_count": null,
      "outputs": [
        {
          "output_type": "error",
          "ename": "KeyboardInterrupt",
          "evalue": "",
          "traceback": [
            "\u001b[0;31m---------------------------------------------------------------------------\u001b[0m",
            "\u001b[0;31mKeyboardInterrupt\u001b[0m                         Traceback (most recent call last)",
            "\u001b[0;32m<ipython-input-119-198f5888b07d>\u001b[0m in \u001b[0;36m<cell line: 0>\u001b[0;34m()\u001b[0m\n\u001b[0;32m----> 1\u001b[0;31m \u001b[0mdraw_histograms\u001b[0m\u001b[0;34m(\u001b[0m\u001b[0mured_filtered\u001b[0m\u001b[0;34m,\u001b[0m \u001b[0;34m[\u001b[0m\u001b[0;34m'price'\u001b[0m\u001b[0;34m,\u001b[0m \u001b[0;34m'bed'\u001b[0m\u001b[0;34m,\u001b[0m \u001b[0;34m'bath'\u001b[0m\u001b[0;34m,\u001b[0m \u001b[0;34m'acre_lot'\u001b[0m\u001b[0;34m,\u001b[0m \u001b[0;34m'house_size'\u001b[0m\u001b[0;34m,\u001b[0m \u001b[0;34m'years_since_sold'\u001b[0m\u001b[0;34m]\u001b[0m\u001b[0;34m)\u001b[0m\u001b[0;34m\u001b[0m\u001b[0;34m\u001b[0m\u001b[0m\n\u001b[0m",
            "\u001b[0;32m<ipython-input-118-76c3fb27c671>\u001b[0m in \u001b[0;36mdraw_histograms\u001b[0;34m(df, column_names)\u001b[0m\n\u001b[1;32m     20\u001b[0m     \u001b[0;32mfor\u001b[0m \u001b[0mi\u001b[0m\u001b[0;34m,\u001b[0m \u001b[0mcol\u001b[0m \u001b[0;32min\u001b[0m \u001b[0menumerate\u001b[0m\u001b[0;34m(\u001b[0m\u001b[0mcolumn_names\u001b[0m\u001b[0;34m)\u001b[0m\u001b[0;34m:\u001b[0m\u001b[0;34m\u001b[0m\u001b[0;34m\u001b[0m\u001b[0m\n\u001b[1;32m     21\u001b[0m         \u001b[0;32mif\u001b[0m \u001b[0mi\u001b[0m \u001b[0;34m<\u001b[0m \u001b[0mnum_cols\u001b[0m\u001b[0;34m:\u001b[0m  \u001b[0;31m# Check if the current column exists in column_names\u001b[0m\u001b[0;34m\u001b[0m\u001b[0;34m\u001b[0m\u001b[0m\n\u001b[0;32m---> 22\u001b[0;31m             \u001b[0msns\u001b[0m\u001b[0;34m.\u001b[0m\u001b[0mhistplot\u001b[0m\u001b[0;34m(\u001b[0m\u001b[0mdata\u001b[0m\u001b[0;34m=\u001b[0m\u001b[0mdf\u001b[0m\u001b[0;34m,\u001b[0m \u001b[0mx\u001b[0m\u001b[0;34m=\u001b[0m\u001b[0mcol\u001b[0m\u001b[0;34m,\u001b[0m \u001b[0mkde\u001b[0m\u001b[0;34m=\u001b[0m\u001b[0;32mTrue\u001b[0m\u001b[0;34m,\u001b[0m \u001b[0max\u001b[0m\u001b[0;34m=\u001b[0m\u001b[0maxes\u001b[0m\u001b[0;34m[\u001b[0m\u001b[0mi\u001b[0m\u001b[0;34m]\u001b[0m\u001b[0;34m)\u001b[0m\u001b[0;34m\u001b[0m\u001b[0;34m\u001b[0m\u001b[0m\n\u001b[0m\u001b[1;32m     23\u001b[0m             \u001b[0maxes\u001b[0m\u001b[0;34m[\u001b[0m\u001b[0mi\u001b[0m\u001b[0;34m]\u001b[0m\u001b[0;34m.\u001b[0m\u001b[0mset_title\u001b[0m\u001b[0;34m(\u001b[0m\u001b[0;34mf'Histogram of {col}'\u001b[0m\u001b[0;34m)\u001b[0m\u001b[0;34m\u001b[0m\u001b[0;34m\u001b[0m\u001b[0m\n\u001b[1;32m     24\u001b[0m             \u001b[0maxes\u001b[0m\u001b[0;34m[\u001b[0m\u001b[0mi\u001b[0m\u001b[0;34m]\u001b[0m\u001b[0;34m.\u001b[0m\u001b[0mset_xlabel\u001b[0m\u001b[0;34m(\u001b[0m\u001b[0mcol\u001b[0m\u001b[0;34m)\u001b[0m\u001b[0;34m\u001b[0m\u001b[0;34m\u001b[0m\u001b[0m\n",
            "\u001b[0;32m/usr/local/lib/python3.11/dist-packages/seaborn/distributions.py\u001b[0m in \u001b[0;36mhistplot\u001b[0;34m(data, x, y, hue, weights, stat, bins, binwidth, binrange, discrete, cumulative, common_bins, common_norm, multiple, element, fill, shrink, kde, kde_kws, line_kws, thresh, pthresh, pmax, cbar, cbar_ax, cbar_kws, palette, hue_order, hue_norm, color, log_scale, legend, ax, **kwargs)\u001b[0m\n\u001b[1;32m   1414\u001b[0m     \u001b[0;32mif\u001b[0m \u001b[0mp\u001b[0m\u001b[0;34m.\u001b[0m\u001b[0munivariate\u001b[0m\u001b[0;34m:\u001b[0m\u001b[0;34m\u001b[0m\u001b[0;34m\u001b[0m\u001b[0m\n\u001b[1;32m   1415\u001b[0m \u001b[0;34m\u001b[0m\u001b[0m\n\u001b[0;32m-> 1416\u001b[0;31m         p.plot_univariate_histogram(\n\u001b[0m\u001b[1;32m   1417\u001b[0m             \u001b[0mmultiple\u001b[0m\u001b[0;34m=\u001b[0m\u001b[0mmultiple\u001b[0m\u001b[0;34m,\u001b[0m\u001b[0;34m\u001b[0m\u001b[0;34m\u001b[0m\u001b[0m\n\u001b[1;32m   1418\u001b[0m             \u001b[0melement\u001b[0m\u001b[0;34m=\u001b[0m\u001b[0melement\u001b[0m\u001b[0;34m,\u001b[0m\u001b[0;34m\u001b[0m\u001b[0;34m\u001b[0m\u001b[0m\n",
            "\u001b[0;32m/usr/local/lib/python3.11/dist-packages/seaborn/distributions.py\u001b[0m in \u001b[0;36mplot_univariate_histogram\u001b[0;34m(self, multiple, element, fill, common_norm, common_bins, shrink, kde, kde_kws, color, legend, line_kws, estimate_kws, **plot_kws)\u001b[0m\n\u001b[1;32m    569\u001b[0m \u001b[0;34m\u001b[0m\u001b[0m\n\u001b[1;32m    570\u001b[0m                 \u001b[0mplot_func\u001b[0m \u001b[0;34m=\u001b[0m \u001b[0max\u001b[0m\u001b[0;34m.\u001b[0m\u001b[0mbar\u001b[0m \u001b[0;32mif\u001b[0m \u001b[0mself\u001b[0m\u001b[0;34m.\u001b[0m\u001b[0mdata_variable\u001b[0m \u001b[0;34m==\u001b[0m \u001b[0;34m\"x\"\u001b[0m \u001b[0;32melse\u001b[0m \u001b[0max\u001b[0m\u001b[0;34m.\u001b[0m\u001b[0mbarh\u001b[0m\u001b[0;34m\u001b[0m\u001b[0;34m\u001b[0m\u001b[0m\n\u001b[0;32m--> 571\u001b[0;31m                 artists = plot_func(\n\u001b[0m\u001b[1;32m    572\u001b[0m                     \u001b[0mhist\u001b[0m\u001b[0;34m[\u001b[0m\u001b[0;34m\"edges\"\u001b[0m\u001b[0;34m]\u001b[0m\u001b[0;34m,\u001b[0m\u001b[0;34m\u001b[0m\u001b[0;34m\u001b[0m\u001b[0m\n\u001b[1;32m    573\u001b[0m                     \u001b[0mhist\u001b[0m\u001b[0;34m[\u001b[0m\u001b[0;34m\"heights\"\u001b[0m\u001b[0;34m]\u001b[0m \u001b[0;34m-\u001b[0m \u001b[0mbottom\u001b[0m\u001b[0;34m,\u001b[0m\u001b[0;34m\u001b[0m\u001b[0;34m\u001b[0m\u001b[0m\n",
            "\u001b[0;32m/usr/local/lib/python3.11/dist-packages/matplotlib/__init__.py\u001b[0m in \u001b[0;36minner\u001b[0;34m(ax, data, *args, **kwargs)\u001b[0m\n\u001b[1;32m   1519\u001b[0m     \u001b[0;32mdef\u001b[0m \u001b[0minner\u001b[0m\u001b[0;34m(\u001b[0m\u001b[0max\u001b[0m\u001b[0;34m,\u001b[0m \u001b[0;34m*\u001b[0m\u001b[0margs\u001b[0m\u001b[0;34m,\u001b[0m \u001b[0mdata\u001b[0m\u001b[0;34m=\u001b[0m\u001b[0;32mNone\u001b[0m\u001b[0;34m,\u001b[0m \u001b[0;34m**\u001b[0m\u001b[0mkwargs\u001b[0m\u001b[0;34m)\u001b[0m\u001b[0;34m:\u001b[0m\u001b[0;34m\u001b[0m\u001b[0;34m\u001b[0m\u001b[0m\n\u001b[1;32m   1520\u001b[0m         \u001b[0;32mif\u001b[0m \u001b[0mdata\u001b[0m \u001b[0;32mis\u001b[0m \u001b[0;32mNone\u001b[0m\u001b[0;34m:\u001b[0m\u001b[0;34m\u001b[0m\u001b[0;34m\u001b[0m\u001b[0m\n\u001b[0;32m-> 1521\u001b[0;31m             return func(\n\u001b[0m\u001b[1;32m   1522\u001b[0m                 \u001b[0max\u001b[0m\u001b[0;34m,\u001b[0m\u001b[0;34m\u001b[0m\u001b[0;34m\u001b[0m\u001b[0m\n\u001b[1;32m   1523\u001b[0m                 \u001b[0;34m*\u001b[0m\u001b[0mmap\u001b[0m\u001b[0;34m(\u001b[0m\u001b[0mcbook\u001b[0m\u001b[0;34m.\u001b[0m\u001b[0msanitize_sequence\u001b[0m\u001b[0;34m,\u001b[0m \u001b[0margs\u001b[0m\u001b[0;34m)\u001b[0m\u001b[0;34m,\u001b[0m\u001b[0;34m\u001b[0m\u001b[0;34m\u001b[0m\u001b[0m\n",
            "\u001b[0;32m/usr/local/lib/python3.11/dist-packages/matplotlib/axes/_axes.py\u001b[0m in \u001b[0;36mbar\u001b[0;34m(self, x, height, width, bottom, align, **kwargs)\u001b[0m\n\u001b[1;32m   2647\u001b[0m             \u001b[0;32melse\u001b[0m\u001b[0;34m:\u001b[0m  \u001b[0;31m# horizontal\u001b[0m\u001b[0;34m\u001b[0m\u001b[0;34m\u001b[0m\u001b[0m\n\u001b[1;32m   2648\u001b[0m                 \u001b[0mr\u001b[0m\u001b[0;34m.\u001b[0m\u001b[0msticky_edges\u001b[0m\u001b[0;34m.\u001b[0m\u001b[0mx\u001b[0m\u001b[0;34m.\u001b[0m\u001b[0mappend\u001b[0m\u001b[0;34m(\u001b[0m\u001b[0ml\u001b[0m\u001b[0;34m)\u001b[0m\u001b[0;34m\u001b[0m\u001b[0;34m\u001b[0m\u001b[0m\n\u001b[0;32m-> 2649\u001b[0;31m             \u001b[0mself\u001b[0m\u001b[0;34m.\u001b[0m\u001b[0madd_patch\u001b[0m\u001b[0;34m(\u001b[0m\u001b[0mr\u001b[0m\u001b[0;34m)\u001b[0m\u001b[0;34m\u001b[0m\u001b[0;34m\u001b[0m\u001b[0m\n\u001b[0m\u001b[1;32m   2650\u001b[0m             \u001b[0mpatches\u001b[0m\u001b[0;34m.\u001b[0m\u001b[0mappend\u001b[0m\u001b[0;34m(\u001b[0m\u001b[0mr\u001b[0m\u001b[0;34m)\u001b[0m\u001b[0;34m\u001b[0m\u001b[0;34m\u001b[0m\u001b[0m\n\u001b[1;32m   2651\u001b[0m \u001b[0;34m\u001b[0m\u001b[0m\n",
            "\u001b[0;32m/usr/local/lib/python3.11/dist-packages/matplotlib/axes/_base.py\u001b[0m in \u001b[0;36madd_patch\u001b[0;34m(self, p)\u001b[0m\n\u001b[1;32m   2444\u001b[0m         \u001b[0;32mif\u001b[0m \u001b[0mp\u001b[0m\u001b[0;34m.\u001b[0m\u001b[0mget_clip_path\u001b[0m\u001b[0;34m(\u001b[0m\u001b[0;34m)\u001b[0m \u001b[0;32mis\u001b[0m \u001b[0;32mNone\u001b[0m\u001b[0;34m:\u001b[0m\u001b[0;34m\u001b[0m\u001b[0;34m\u001b[0m\u001b[0m\n\u001b[1;32m   2445\u001b[0m             \u001b[0mp\u001b[0m\u001b[0;34m.\u001b[0m\u001b[0mset_clip_path\u001b[0m\u001b[0;34m(\u001b[0m\u001b[0mself\u001b[0m\u001b[0;34m.\u001b[0m\u001b[0mpatch\u001b[0m\u001b[0;34m)\u001b[0m\u001b[0;34m\u001b[0m\u001b[0;34m\u001b[0m\u001b[0m\n\u001b[0;32m-> 2446\u001b[0;31m         \u001b[0mself\u001b[0m\u001b[0;34m.\u001b[0m\u001b[0m_update_patch_limits\u001b[0m\u001b[0;34m(\u001b[0m\u001b[0mp\u001b[0m\u001b[0;34m)\u001b[0m\u001b[0;34m\u001b[0m\u001b[0;34m\u001b[0m\u001b[0m\n\u001b[0m\u001b[1;32m   2447\u001b[0m         \u001b[0mself\u001b[0m\u001b[0;34m.\u001b[0m\u001b[0m_children\u001b[0m\u001b[0;34m.\u001b[0m\u001b[0mappend\u001b[0m\u001b[0;34m(\u001b[0m\u001b[0mp\u001b[0m\u001b[0;34m)\u001b[0m\u001b[0;34m\u001b[0m\u001b[0;34m\u001b[0m\u001b[0m\n\u001b[1;32m   2448\u001b[0m         \u001b[0mp\u001b[0m\u001b[0;34m.\u001b[0m\u001b[0m_remove_method\u001b[0m \u001b[0;34m=\u001b[0m \u001b[0mself\u001b[0m\u001b[0;34m.\u001b[0m\u001b[0m_children\u001b[0m\u001b[0;34m.\u001b[0m\u001b[0mremove\u001b[0m\u001b[0;34m\u001b[0m\u001b[0;34m\u001b[0m\u001b[0m\n",
            "\u001b[0;32m/usr/local/lib/python3.11/dist-packages/matplotlib/axes/_base.py\u001b[0m in \u001b[0;36m_update_patch_limits\u001b[0;34m(self, patch)\u001b[0m\n\u001b[1;32m   2485\u001b[0m             \u001b[0;32mif\u001b[0m \u001b[0mupdatey\u001b[0m \u001b[0;32mand\u001b[0m \u001b[0mpatch_trf\u001b[0m \u001b[0;34m==\u001b[0m \u001b[0mself\u001b[0m\u001b[0;34m.\u001b[0m\u001b[0mget_xaxis_transform\u001b[0m\u001b[0;34m(\u001b[0m\u001b[0;34m)\u001b[0m\u001b[0;34m:\u001b[0m\u001b[0;34m\u001b[0m\u001b[0;34m\u001b[0m\u001b[0m\n\u001b[1;32m   2486\u001b[0m                 \u001b[0mupdatey\u001b[0m \u001b[0;34m=\u001b[0m \u001b[0;32mFalse\u001b[0m\u001b[0;34m\u001b[0m\u001b[0;34m\u001b[0m\u001b[0m\n\u001b[0;32m-> 2487\u001b[0;31m         \u001b[0mtrf_to_data\u001b[0m \u001b[0;34m=\u001b[0m \u001b[0mpatch_trf\u001b[0m \u001b[0;34m-\u001b[0m \u001b[0mself\u001b[0m\u001b[0;34m.\u001b[0m\u001b[0mtransData\u001b[0m\u001b[0;34m\u001b[0m\u001b[0;34m\u001b[0m\u001b[0m\n\u001b[0m\u001b[1;32m   2488\u001b[0m         \u001b[0mxys\u001b[0m \u001b[0;34m=\u001b[0m \u001b[0mtrf_to_data\u001b[0m\u001b[0;34m.\u001b[0m\u001b[0mtransform\u001b[0m\u001b[0;34m(\u001b[0m\u001b[0mvertices\u001b[0m\u001b[0;34m)\u001b[0m\u001b[0;34m\u001b[0m\u001b[0;34m\u001b[0m\u001b[0m\n\u001b[1;32m   2489\u001b[0m         \u001b[0mself\u001b[0m\u001b[0;34m.\u001b[0m\u001b[0mupdate_datalim\u001b[0m\u001b[0;34m(\u001b[0m\u001b[0mxys\u001b[0m\u001b[0;34m,\u001b[0m \u001b[0mupdatex\u001b[0m\u001b[0;34m=\u001b[0m\u001b[0mupdatex\u001b[0m\u001b[0;34m,\u001b[0m \u001b[0mupdatey\u001b[0m\u001b[0;34m=\u001b[0m\u001b[0mupdatey\u001b[0m\u001b[0;34m)\u001b[0m\u001b[0;34m\u001b[0m\u001b[0;34m\u001b[0m\u001b[0m\n",
            "\u001b[0;32m/usr/local/lib/python3.11/dist-packages/matplotlib/transforms.py\u001b[0m in \u001b[0;36m__sub__\u001b[0;34m(self, other)\u001b[0m\n\u001b[1;32m   1449\u001b[0m             \u001b[0;32mreturn\u001b[0m \u001b[0mNotImplemented\u001b[0m\u001b[0;34m\u001b[0m\u001b[0;34m\u001b[0m\u001b[0m\n\u001b[1;32m   1450\u001b[0m         \u001b[0;32mfor\u001b[0m \u001b[0mremainder\u001b[0m\u001b[0;34m,\u001b[0m \u001b[0msub_tree\u001b[0m \u001b[0;32min\u001b[0m \u001b[0mself\u001b[0m\u001b[0;34m.\u001b[0m\u001b[0m_iter_break_from_left_to_right\u001b[0m\u001b[0;34m(\u001b[0m\u001b[0;34m)\u001b[0m\u001b[0;34m:\u001b[0m\u001b[0;34m\u001b[0m\u001b[0;34m\u001b[0m\u001b[0m\n\u001b[0;32m-> 1451\u001b[0;31m             \u001b[0;32mif\u001b[0m \u001b[0msub_tree\u001b[0m \u001b[0;34m==\u001b[0m \u001b[0mother\u001b[0m\u001b[0;34m:\u001b[0m\u001b[0;34m\u001b[0m\u001b[0;34m\u001b[0m\u001b[0m\n\u001b[0m\u001b[1;32m   1452\u001b[0m                 \u001b[0;32mreturn\u001b[0m \u001b[0mremainder\u001b[0m\u001b[0;34m\u001b[0m\u001b[0;34m\u001b[0m\u001b[0m\n\u001b[1;32m   1453\u001b[0m         \u001b[0;32mfor\u001b[0m \u001b[0mremainder\u001b[0m\u001b[0;34m,\u001b[0m \u001b[0msub_tree\u001b[0m \u001b[0;32min\u001b[0m \u001b[0mother\u001b[0m\u001b[0;34m.\u001b[0m\u001b[0m_iter_break_from_left_to_right\u001b[0m\u001b[0;34m(\u001b[0m\u001b[0;34m)\u001b[0m\u001b[0;34m:\u001b[0m\u001b[0;34m\u001b[0m\u001b[0;34m\u001b[0m\u001b[0m\n",
            "\u001b[0;32m/usr/local/lib/python3.11/dist-packages/matplotlib/transforms.py\u001b[0m in \u001b[0;36m__eq__\u001b[0;34m(self, other)\u001b[0m\n\u001b[1;32m   2377\u001b[0m     \u001b[0;32mdef\u001b[0m \u001b[0m__eq__\u001b[0m\u001b[0;34m(\u001b[0m\u001b[0mself\u001b[0m\u001b[0;34m,\u001b[0m \u001b[0mother\u001b[0m\u001b[0;34m)\u001b[0m\u001b[0;34m:\u001b[0m\u001b[0;34m\u001b[0m\u001b[0;34m\u001b[0m\u001b[0m\n\u001b[1;32m   2378\u001b[0m         \u001b[0;32mif\u001b[0m \u001b[0misinstance\u001b[0m\u001b[0;34m(\u001b[0m\u001b[0mother\u001b[0m\u001b[0;34m,\u001b[0m \u001b[0;34m(\u001b[0m\u001b[0mCompositeGenericTransform\u001b[0m\u001b[0;34m,\u001b[0m \u001b[0mCompositeAffine2D\u001b[0m\u001b[0;34m)\u001b[0m\u001b[0;34m)\u001b[0m\u001b[0;34m:\u001b[0m\u001b[0;34m\u001b[0m\u001b[0;34m\u001b[0m\u001b[0m\n\u001b[0;32m-> 2379\u001b[0;31m             return self is other or (self._a == other._a\n\u001b[0m\u001b[1;32m   2380\u001b[0m                                      and self._b == other._b)\n\u001b[1;32m   2381\u001b[0m         \u001b[0;32melse\u001b[0m\u001b[0;34m:\u001b[0m\u001b[0;34m\u001b[0m\u001b[0;34m\u001b[0m\u001b[0m\n",
            "\u001b[0;32m/usr/local/lib/python3.11/dist-packages/matplotlib/transforms.py\u001b[0m in \u001b[0;36m__eq__\u001b[0;34m(self, other)\u001b[0m\n\u001b[1;32m   1777\u001b[0m     \u001b[0;32mdef\u001b[0m \u001b[0m__eq__\u001b[0m\u001b[0;34m(\u001b[0m\u001b[0mself\u001b[0m\u001b[0;34m,\u001b[0m \u001b[0mother\u001b[0m\u001b[0;34m)\u001b[0m\u001b[0;34m:\u001b[0m\u001b[0;34m\u001b[0m\u001b[0;34m\u001b[0m\u001b[0m\n\u001b[1;32m   1778\u001b[0m         \u001b[0;32mif\u001b[0m \u001b[0mgetattr\u001b[0m\u001b[0;34m(\u001b[0m\u001b[0mother\u001b[0m\u001b[0;34m,\u001b[0m \u001b[0;34m\"is_affine\"\u001b[0m\u001b[0;34m,\u001b[0m \u001b[0;32mFalse\u001b[0m\u001b[0;34m)\u001b[0m \u001b[0;32mand\u001b[0m \u001b[0mhasattr\u001b[0m\u001b[0;34m(\u001b[0m\u001b[0mother\u001b[0m\u001b[0;34m,\u001b[0m \u001b[0;34m\"get_matrix\"\u001b[0m\u001b[0;34m)\u001b[0m\u001b[0;34m:\u001b[0m\u001b[0;34m\u001b[0m\u001b[0;34m\u001b[0m\u001b[0m\n\u001b[0;32m-> 1779\u001b[0;31m             \u001b[0;32mreturn\u001b[0m \u001b[0;34m(\u001b[0m\u001b[0mself\u001b[0m\u001b[0;34m.\u001b[0m\u001b[0mget_matrix\u001b[0m\u001b[0;34m(\u001b[0m\u001b[0;34m)\u001b[0m \u001b[0;34m==\u001b[0m \u001b[0mother\u001b[0m\u001b[0;34m.\u001b[0m\u001b[0mget_matrix\u001b[0m\u001b[0;34m(\u001b[0m\u001b[0;34m)\u001b[0m\u001b[0;34m)\u001b[0m\u001b[0;34m.\u001b[0m\u001b[0mall\u001b[0m\u001b[0;34m(\u001b[0m\u001b[0;34m)\u001b[0m\u001b[0;34m\u001b[0m\u001b[0;34m\u001b[0m\u001b[0m\n\u001b[0m\u001b[1;32m   1780\u001b[0m         \u001b[0;32mreturn\u001b[0m \u001b[0mNotImplemented\u001b[0m\u001b[0;34m\u001b[0m\u001b[0;34m\u001b[0m\u001b[0m\n\u001b[1;32m   1781\u001b[0m \u001b[0;34m\u001b[0m\u001b[0m\n",
            "\u001b[0;32m/usr/local/lib/python3.11/dist-packages/numpy/_core/_methods.py\u001b[0m in \u001b[0;36m_all\u001b[0;34m(a, axis, dtype, out, keepdims, where)\u001b[0m\n\u001b[1;32m     71\u001b[0m     \u001b[0;31m# Parsing keyword arguments is currently fairly slow, so avoid it for now\u001b[0m\u001b[0;34m\u001b[0m\u001b[0;34m\u001b[0m\u001b[0m\n\u001b[1;32m     72\u001b[0m     \u001b[0;32mif\u001b[0m \u001b[0mwhere\u001b[0m \u001b[0;32mis\u001b[0m \u001b[0;32mTrue\u001b[0m\u001b[0;34m:\u001b[0m\u001b[0;34m\u001b[0m\u001b[0;34m\u001b[0m\u001b[0m\n\u001b[0;32m---> 73\u001b[0;31m         \u001b[0;32mreturn\u001b[0m \u001b[0mumr_all\u001b[0m\u001b[0;34m(\u001b[0m\u001b[0ma\u001b[0m\u001b[0;34m,\u001b[0m \u001b[0maxis\u001b[0m\u001b[0;34m,\u001b[0m \u001b[0mdtype\u001b[0m\u001b[0;34m,\u001b[0m \u001b[0mout\u001b[0m\u001b[0;34m,\u001b[0m \u001b[0mkeepdims\u001b[0m\u001b[0;34m)\u001b[0m\u001b[0;34m\u001b[0m\u001b[0;34m\u001b[0m\u001b[0m\n\u001b[0m\u001b[1;32m     74\u001b[0m     \u001b[0;32mreturn\u001b[0m \u001b[0mumr_all\u001b[0m\u001b[0;34m(\u001b[0m\u001b[0ma\u001b[0m\u001b[0;34m,\u001b[0m \u001b[0maxis\u001b[0m\u001b[0;34m,\u001b[0m \u001b[0mdtype\u001b[0m\u001b[0;34m,\u001b[0m \u001b[0mout\u001b[0m\u001b[0;34m,\u001b[0m \u001b[0mkeepdims\u001b[0m\u001b[0;34m,\u001b[0m \u001b[0mwhere\u001b[0m\u001b[0;34m=\u001b[0m\u001b[0mwhere\u001b[0m\u001b[0;34m)\u001b[0m\u001b[0;34m\u001b[0m\u001b[0;34m\u001b[0m\u001b[0m\n\u001b[1;32m     75\u001b[0m \u001b[0;34m\u001b[0m\u001b[0m\n",
            "\u001b[0;31mKeyboardInterrupt\u001b[0m: "
          ]
        }
      ]
    }
  ]
}