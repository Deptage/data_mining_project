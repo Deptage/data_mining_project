{
 "cells": [
  {
   "cell_type": "code",
   "execution_count": null,
   "id": "7b88da46",
   "metadata": {},
   "outputs": [
    {
     "name": "stdout",
     "output_type": "stream",
     "text": [
      "MAE with geo features:     174866.49\n",
      "MAE without geo features:  200263.55\n",
      "Paired t-test p-value: 0.00000\n",
      "Wilcoxon test p-value: 0.00000\n"
     ]
    }
   ],
   "source": [
    "import numpy as np\n",
    "import pandas as pd\n",
    "from xgboost import XGBRegressor\n",
    "from sklearn.metrics import mean_absolute_error\n",
    "from sklearn.model_selection import train_test_split\n",
    "from scipy.stats import ttest_rel, wilcoxon\n",
    "import pandas as pd\n",
    "from sklearn.preprocessing import OrdinalEncoder\n",
    "from sklearn.model_selection import train_test_split\n",
    "from xgboost import XGBRegressor\n",
    "from sklearn.metrics import mean_squared_error, r2_score,mean_absolute_error\n",
    "import numpy as np\n",
    "\n",
    "\n",
    "ured_normalized = pd.read_csv('usa-real-estate-dataset-normalized.csv')\n",
    "\n",
    "zip_encoder = OrdinalEncoder(handle_unknown='use_encoded_value', unknown_value=-1)\n",
    "ured_normalized[['zip_code']] = zip_encoder.fit_transform(ured_normalized[['zip_code']])\n",
    "ured_normalized['zip_code'] = ured_normalized['zip_code'].astype('category')\n",
    "\n",
    "y = ured_normalized['price']\n",
    "X_geo = ured_normalized.drop(columns=['price'])\n",
    "X_no_geo = ured_normalized.drop(columns=['price','state', 'city'])\n",
    "\n",
    "top_cities = X_geo['city'].value_counts().nlargest(200).index\n",
    "X_geo['city'] = X_geo['city'].where(X_geo['city'].isin(top_cities), '__other__')\n",
    "\n",
    "X_geo = pd.get_dummies(X_geo, columns=['city', 'state'], drop_first=True)\n",
    "\n",
    "\n",
    "X_train_geo, X_test_geo, y_train, y_test = train_test_split(X_geo, y, test_size=0.2, random_state=2137)\n",
    "X_train_no_geo, X_test_no_geo, _, _ = train_test_split(X_no_geo, y, test_size=0.2, random_state=2137)\n",
    "\n",
    "model_geo = XGBRegressor()\n",
    "model_geo.load_model(\"models/xgb_model_200c_50s_zipcode_cat.json\")\n",
    "\n",
    "model_no_geo = XGBRegressor()\n",
    "model_no_geo.load_model(\"models/xgb_model_zipcode_cat.json\")\n",
    "\n",
    "preds_geo = model_geo.predict(X_test_geo)\n",
    "preds_no_geo = model_no_geo.predict(X_test_no_geo)\n",
    "\n",
    "mae_geo = mean_absolute_error(y_test, preds_geo)\n",
    "mae_no_geo = mean_absolute_error(y_test, preds_no_geo)\n",
    "\n",
    "print(f\"MAE with geo features:     {mae_geo:.2f}\")\n",
    "print(f\"MAE without geo features:  {mae_no_geo:.2f}\")\n",
    "\n",
    "errors_geo = np.abs(y_test - preds_geo)\n",
    "errors_no_geo = np.abs(y_test - preds_no_geo)\n",
    "\n",
    "\n",
    "t_stat, p_value_t = ttest_rel(errors_no_geo, errors_geo)\n",
    "print(f\"Paired t-test p-value: {p_value_t:.5f}\")\n",
    "\n",
    "try:\n",
    "    stat_w, p_value_w = wilcoxon(errors_no_geo, errors_geo)\n",
    "    print(f\"Wilcoxon test p-value: {p_value_w:.5f}\")\n",
    "except ValueError as e:\n",
    "    print(f\"Wilcoxon test failed: {e}\")\n"
   ]
  },
  {
   "cell_type": "code",
   "execution_count": null,
   "id": "82a0ac85",
   "metadata": {},
   "outputs": [
    {
     "name": "stdout",
     "output_type": "stream",
     "text": [
      "Paired t-test p-value: 0.0\n",
      "Wilcoxon test p-value: 0.0\n"
     ]
    }
   ],
   "source": [
    "t_stat, p_value_t = ttest_rel(errors_no_geo, errors_geo)\n",
    "print(f\"Paired t-test p-value: {p_value_t}\")\n",
    "\n",
    "try:\n",
    "    stat_w, p_value_w = wilcoxon(errors_no_geo, errors_geo)\n",
    "    print(f\"Wilcoxon test p-value: {p_value_w}\")\n",
    "except ValueError as e:\n",
    "    print(f\"Wilcoxon test failed: {e}\")\n"
   ]
  }
 ],
 "metadata": {
  "kernelspec": {
   "display_name": ".venv",
   "language": "python",
   "name": "python3"
  },
  "language_info": {
   "codemirror_mode": {
    "name": "ipython",
    "version": 3
   },
   "file_extension": ".py",
   "mimetype": "text/x-python",
   "name": "python",
   "nbconvert_exporter": "python",
   "pygments_lexer": "ipython3",
   "version": "3.12.3"
  }
 },
 "nbformat": 4,
 "nbformat_minor": 5
}
